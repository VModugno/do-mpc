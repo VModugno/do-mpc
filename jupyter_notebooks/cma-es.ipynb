{
 "metadata": {
  "language_info": {
   "codemirror_mode": {
    "name": "ipython",
    "version": 3
   },
   "file_extension": ".py",
   "mimetype": "text/x-python",
   "name": "python",
   "nbconvert_exporter": "python",
   "pygments_lexer": "ipython3",
   "version": "3.7.9"
  },
  "orig_nbformat": 2,
  "kernelspec": {
   "name": "python379jvsc74a57bd076b905e77a6f4189cfd7c6e065b260d28379a07c5050b52264453aa04cffd78b",
   "display_name": "Python 3.7.9 64-bit ('AMR-MOD': conda)"
  }
 },
 "nbformat": 4,
 "nbformat_minor": 2,
 "cells": [
  {
   "cell_type": "code",
   "execution_count": 31,
   "metadata": {},
   "outputs": [],
   "source": [
    "import numpy as np\n",
    "import cma\n",
    "import re\n",
    "import math\n",
    "\n",
    "x0 = 0.3\n",
    "y0 = 0.3 \n",
    "theta0 = math.pi\n",
    "delta_t = 0.01\n",
    "\n",
    "input_seq = [\n",
    "                [0,1],[0,1],[0,1],[0,1],[0,1],[0,1],[0,1],[1,1],[1,1],[1,1],[1,1],[1,1],[1,1],[1,1],[1,1],[1,1],\n",
    "                [1,1],[1,1],[1,1],[1,0],[1,0],[1,0],[1,0],[1,0],[1,0],[1,0],[1,0],[1,0],[1,0],[1,0.3],[1,0.3],\n",
    "                [1,0.3],[1,0.3],[1,0.3],[1,0.3],[1,0.3],[1,0.3],[1,0.3],[1,0.3],[1,0.3],[1,0.3],[1,0.3],[0.3,1],\n",
    "                [0.3,1],[0.3,1],[0.3,1],[0.3,1],[0.3,1],[0.3,1],[0.3,1],[0.3,1],[0.3,1],[0.3,1]\n",
    "            ]"
   ]
  },
  {
   "cell_type": "code",
   "execution_count": 15,
   "metadata": {},
   "outputs": [],
   "source": [
    "def generate_path(L, r):\n",
    "    x = x0\n",
    "    y = y0\n",
    "    theta = thetha0\n",
    "\n",
    "    path = [[x,y,theta]]\n",
    "\n",
    "    for wl, wr in input_seq:\n",
    "        v = (wl + wr) * r / 2      \n",
    "        w = (wl - wr) * r / L \n",
    "\n",
    "        x = x + v * delta_t * math.cos(theta)\n",
    "        y = y + v * delta_t * math.sin(theta)\n",
    "        theta = theta + w * delta_t\n",
    "\n",
    "        if theta > math.pi:\n",
    "            theta = theta - 2*math.pi\n",
    "        elif theta < -math.pi:\n",
    "            theta = (2*math.pi + theta)\n",
    "        \n",
    "        path.append([x,y,theta])\n",
    "    \n",
    "    return path"
   ]
  },
  {
   "cell_type": "code",
   "execution_count": 16,
   "metadata": {},
   "outputs": [],
   "source": [
    "def loss(params):\n",
    "    real = generate_path(real_params[0], real_params[1])\n",
    "    pred = generate_path(params[0], params[1])\n",
    "    return np.sqrt(np.mean((np.array(pred) - np.array(real)) ** 2))"
   ]
  },
  {
   "cell_type": "code",
   "execution_count": 17,
   "metadata": {},
   "outputs": [],
   "source": [
    "def dist2target(path,target=[0,0]):\n",
    "    return [np.linalg.norm(target)-np.array(step[0:-1])) for step in path]"
   ]
  },
  {
   "cell_type": "code",
   "execution_count": 18,
   "metadata": {},
   "outputs": [],
   "source": [
    "L = 0.8\n",
    "r = 0.69\n",
    "real_params = [L,r]\n",
    "\n",
    "L_fake = 0.6\n",
    "r_fake = 0.13\n",
    "fake_params = [L_fake,r_fake]\n",
    "\n",
    "test_loss = loss(real_params)\n"
   ]
  },
  {
   "cell_type": "code",
   "execution_count": 19,
   "metadata": {},
   "outputs": [
    {
     "output_type": "stream",
     "name": "stdout",
     "text": [
      "Iterat #Fevals   function value  axis ratio  sigma  min&max std  t[m:s]\n",
      "    1      6 7.188720072169344e-02 1.0e+00 4.39e-01  3e-01  5e-01 0:00.0\n",
      "    2     12 2.755491942895244e-02 1.4e+00 7.14e-01  6e-01  7e-01 0:00.0\n",
      "    3     18 1.811749335266345e-02 1.3e+00 7.32e-01  6e-01  6e-01 0:00.0\n",
      "  100    600 2.623307939999283e-13 4.7e+00 5.82e-08  2e-12  7e-12 0:00.3\n"
     ]
    },
    {
     "output_type": "execute_result",
     "data": {
      "text/plain": [
       "<cma.evolution_strategy.CMAEvolutionStrategy at 0x125f941f408>"
      ]
     },
     "metadata": {},
     "execution_count": 19
    }
   ],
   "source": [
    "es = cma.CMAEvolutionStrategy(len(real_params) * [0], 0.5, {'verbose': -3})\n",
    "es.optimize(loss)"
   ]
  },
  {
   "cell_type": "code",
   "execution_count": 20,
   "metadata": {},
   "outputs": [
    {
     "output_type": "stream",
     "name": "stdout",
     "text": [
      "Best loss value: 1.1e-13\n"
     ]
    }
   ],
   "source": [
    "print(f'Best loss value: {loss(es.result.xbest):.2}')"
   ]
  },
  {
   "cell_type": "code",
   "execution_count": 21,
   "metadata": {},
   "outputs": [
    {
     "output_type": "stream",
     "name": "stdout",
     "text": [
      "The parameters set is: L = 0.800000000001304, r = 0.6900000000009019\n"
     ]
    }
   ],
   "source": [
    "print('The parameters set is: L = {}, r = {}'.format(es.result.xbest[0],es.result.xbest[1]))\n"
   ]
  },
  {
   "cell_type": "code",
   "execution_count": 90,
   "metadata": {},
   "outputs": [],
   "source": [
    "# Alternative with full control \n",
    "import numpy as np\n",
    "import cma\n",
    "import re\n",
    "import math\n",
    "\n",
    "x0 = 0.3\n",
    "y0 = 0.3 \n",
    "theta0 = math.pi\n",
    "delta_t = 0.01\n",
    "\n",
    "input_seq = [\n",
    "                [0,1],[0,1],[0,1],[0,1],[0,1],[0,1],[0,1],[1,1],[1,1],[1,1],[1,1],[1,1],[1,1],[1,1],[1,1],[1,1],\n",
    "                [1,1],[1,1],[1,1],[1,0],[1,0],[1,0],[1,0],[1,0],[1,0],[1,0],[1,0],[1,0],[1,0],[1,0.3],[1,0.3],\n",
    "                [1,0.3],[1,0.3],[1,0.3],[1,0.3],[1,0.3],[1,0.3],[1,0.3],[1,0.3],[1,0.3],[1,0.3],[1,0.3],[0.3,1],\n",
    "                [0.3,1],[0.3,1],[0.3,1],[0.3,1],[0.3,1],[0.3,1],[0.3,1],[0.3,1],[0.3,1],[0.3,1]\n",
    "            ]\n",
    "\n",
    "def generate_mpc_history(r, input_seq):\n",
    "    x = x0\n",
    "    y = y0\n",
    "    theta = theta0\n",
    "\n",
    "    hist = []\n",
    "    elem = {'init_state':[x,y,theta]}\n",
    "    for wl, wr in input_seq:\n",
    "        v = (wl + wr) * r / 2      \n",
    "        w = (wl - wr) * r / L \n",
    "\n",
    "        x = x + v * delta_t * math.cos(theta)\n",
    "        y = y + v * delta_t * math.sin(theta)\n",
    "        theta = theta + w * delta_t\n",
    "\n",
    "        if theta > math.pi:\n",
    "            theta = theta - 2*math.pi\n",
    "        elif theta < -math.pi:\n",
    "            theta = (2*math.pi + theta)\n",
    "        \n",
    "        elem['input'] = [wl, wr]\n",
    "        elem['end_state'] = [x,y,theta]\n",
    "        hist.append(elem)\n",
    "        elem = {'init_state':[x,y,theta]}\n",
    "    return hist\n",
    "\n",
    "def generate_step_history(r, mpc_history):\n",
    "    hist = []\n",
    "    for elem in mpc_history:\n",
    "        x0, y0, theta0 = elem['init_state']\n",
    "        wl, wr = elem['input']\n",
    "\n",
    "        v = (wl + wr) * r / 2      \n",
    "        w = (wl - wr) * r / L \n",
    "\n",
    "        x = x0 + v * delta_t * math.cos(theta0)\n",
    "        y = y0 + v * delta_t * math.sin(theta0)\n",
    "        theta = theta0 + w * delta_t\n",
    "\n",
    "        if theta > math.pi:\n",
    "            theta = theta - 2*math.pi\n",
    "        elif theta < -math.pi:\n",
    "            theta = (2*math.pi + theta)\n",
    "        \n",
    "        hist.append([x,y,theta])\n",
    "    return hist\n",
    "\n",
    "def get_mean_sigma(param_set):\n",
    "    min_param = min(param_set)\n",
    "    max_param = max(param_set)\n",
    "\n",
    "    mean = (min_param+max_param)/2\n",
    "    sigma = (max_param-min_param)/4\n",
    "\n",
    "    return mean, sigma\n",
    "\n",
    "def loss(param_val):\n",
    "    step_hist = generate_step_history(param_val[0], mpc_history)\n",
    "    return np.sqrt(np.mean((np.array(step_mpc_history) - np.array(step_hist)) ** 2))"
   ]
  },
  {
   "cell_type": "code",
   "execution_count": 91,
   "metadata": {},
   "outputs": [
    {
     "output_type": "stream",
     "name": "stdout",
     "text": [
      "0.14500000000000002 0.012500000000000004\n"
     ]
    }
   ],
   "source": [
    "PARAMS_NUM = 1\n",
    "SCENARIOS_NUM = 3\n",
    "\n",
    "L = 0.5\n",
    "r_set = [0.12, 0.16, 0.17]\n",
    "\n",
    "true_r = 0.15\n",
    "\n",
    "mean, sigma = get_mean_sigma(r_set)\n",
    "print(mean, sigma)"
   ]
  },
  {
   "cell_type": "code",
   "execution_count": 95,
   "metadata": {
    "tags": []
   },
   "outputs": [
    {
     "output_type": "stream",
     "name": "stdout",
     "text": [
      "Iterat #Fevals   function value  axis ratio  sigma  min&max std  t[m:s]\n",
      "    1      3 1.193135919841615e-04 1.0e+00 1.06e-02  1e-02  1e-02 0:00.0\n",
      "    2      6 8.786813226335913e-05 1.1e+00 9.28e-03  8e-03  9e-03 0:00.0\n",
      "    3      9 1.135274461730694e-05 1.1e+00 8.63e-03  7e-03  8e-03 0:00.0\n",
      "   20     60 9.679734274089705e-06 1.6e+00 2.26e-03  1e-03  2e-03 0:00.0\n",
      "   40    120 7.088562898379419e-07 3.4e+00 6.04e-04  1e-04  4e-04 0:00.1\n",
      "   60    180 9.408830891815638e-07 6.3e+00 9.99e-04  1e-04  7e-04 0:00.1\n",
      "   80    240 1.838893065804717e-07 1.5e+01 9.11e-04  5e-05  8e-04 0:00.1\n",
      "  100    300 1.184672952634339e-07 1.9e+01 6.44e-04  2e-05  5e-04 0:00.1\n",
      "  120    360 3.713658530571715e-08 3.8e+01 1.11e-04  2e-06  6e-05 0:00.2\n",
      "  140    420 5.358547303055090e-10 7.0e+01 1.51e-05  1e-07  8e-06 0:00.2\n",
      "  160    480 9.616081484609850e-11 1.0e+02 1.82e-06  6e-09  6e-07 0:00.2\n",
      "  180    540 4.443956739249619e-11 9.5e+01 1.99e-06  6e-09  6e-07 0:00.3\n",
      "  200    600 4.982890071099600e-01 1.1e+02 1.32e-06  3e-09  3e-07 0:00.3\n",
      "Iterat #Fevals   function value  axis ratio  sigma  min&max std  t[m:s]\n",
      "  220    660 4.982889980445024e-01 3.4e+01 4.39e-04  2e-06  6e-05 0:00.3\n",
      "  240    720 4.982884569128335e-01 4.3e+01 9.28e-03  9e-05  2e-03 0:00.3\n",
      "  260    780 4.982803008525436e-01 8.0e+01 8.66e-02  9e-04  2e-02 0:00.4\n",
      "  280    840 4.980637308796970e-01 1.2e+02 2.08e+00  3e-02  5e-01 0:00.4\n",
      "  300    900 4.980549505263846e-01 6.3e+01 2.96e-01  2e-03  3e-02 0:00.4\n",
      "  320    960 4.980531068228190e-01 3.2e+01 1.05e-01  2e-04  4e-03 0:00.4\n",
      "  340   1020 4.980531384395172e-01 2.8e+01 2.98e-02  4e-05  7e-04 0:00.5\n",
      "  360   1080 4.980530486443807e-01 4.3e+01 7.39e-03  4e-06  1e-04 0:00.5\n",
      "  380   1140 7.043519479659442e-01 4.6e+01 1.71e-03  7e-07  2e-05 0:00.5\n",
      "  400   1200 4.980530440323980e-01 4.3e+01 2.52e-04  5e-08  2e-06 0:00.6\n",
      "Iterat #Fevals   function value  axis ratio  sigma  min&max std  t[m:s]\n",
      "  420   1260 4.980530440215207e-01 5.4e+01 3.31e-05  3e-09  2e-07 0:00.6\n",
      "  440   1320 4.980530440168053e-01 6.0e+01 5.35e-06  3e-10  2e-08 0:00.6\n",
      "  449   1347 4.980530440170214e-01 5.3e+01 2.39e-06  1e-10  5e-09 0:00.6\n",
      "terminated on {'tolfun': 1e-11}\n"
     ]
    }
   ],
   "source": [
    "step_mpc_history = [elem['end_state'] for elem in mpc_history]\n",
    "\n",
    "es = cma.CMAEvolutionStrategy((PARAMS_NUM+1)*[mean], sigma, {'verbose': -3,'popsize': SCENARIOS_NUM})\n",
    "while not es.stop():\n",
    "    solutions = es.ask()\n",
    "    es.tell(solutions, [loss(param_val) for param_val in solutions])\n",
    "    es.disp(20)\n",
    "print('terminated on ' + str(es.stop()))\n"
   ]
  },
  {
   "cell_type": "code",
   "execution_count": 97,
   "metadata": {},
   "outputs": [
    {
     "output_type": "stream",
     "name": "stdout",
     "text": [
      "The parameters set is: r = 0.14999999996607885, _ = 0.16157474311195627\n"
     ]
    }
   ],
   "source": [
    "print('The parameters set is: r = {}, _ = {}'.format(es.result.xbest[0],es.result.xbest[1]))\n"
   ]
  },
  {
   "cell_type": "code",
   "execution_count": null,
   "metadata": {},
   "outputs": [],
   "source": []
  }
 ]
}
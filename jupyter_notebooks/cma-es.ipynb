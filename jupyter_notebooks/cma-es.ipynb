{
 "metadata": {
  "language_info": {
   "codemirror_mode": {
    "name": "ipython",
    "version": 3
   },
   "file_extension": ".py",
   "mimetype": "text/x-python",
   "name": "python",
   "nbconvert_exporter": "python",
   "pygments_lexer": "ipython3",
   "version": "3.7.9"
  },
  "orig_nbformat": 2,
  "kernelspec": {
   "name": "python379jvsc74a57bd076b905e77a6f4189cfd7c6e065b260d28379a07c5050b52264453aa04cffd78b",
   "display_name": "Python 3.7.9 64-bit ('AMR-MOD': conda)"
  }
 },
 "nbformat": 4,
 "nbformat_minor": 2,
 "cells": [
  {
   "cell_type": "code",
   "execution_count": 31,
   "metadata": {},
   "outputs": [],
   "source": [
    "import numpy as np\n",
    "import cma\n",
    "import re\n",
    "import math\n",
    "\n",
    "x0 = 0.3\n",
    "y0 = 0.3 \n",
    "theta0 = math.pi\n",
    "delta_t = 0.01\n",
    "\n",
    "input_seq = [\n",
    "                [0,1],[0,1],[0,1],[0,1],[0,1],[0,1],[0,1],[1,1],[1,1],[1,1],[1,1],[1,1],[1,1],[1,1],[1,1],[1,1],\n",
    "                [1,1],[1,1],[1,1],[1,0],[1,0],[1,0],[1,0],[1,0],[1,0],[1,0],[1,0],[1,0],[1,0],[1,0.3],[1,0.3],\n",
    "                [1,0.3],[1,0.3],[1,0.3],[1,0.3],[1,0.3],[1,0.3],[1,0.3],[1,0.3],[1,0.3],[1,0.3],[1,0.3],[0.3,1],\n",
    "                [0.3,1],[0.3,1],[0.3,1],[0.3,1],[0.3,1],[0.3,1],[0.3,1],[0.3,1],[0.3,1],[0.3,1]\n",
    "            ]"
   ]
  },
  {
   "cell_type": "code",
   "execution_count": 15,
   "metadata": {},
   "outputs": [],
   "source": [
    "def generate_path(L, r):\n",
    "    x = x0\n",
    "    y = y0\n",
    "    theta = thetha0\n",
    "\n",
    "    path = [[x,y,theta]]\n",
    "\n",
    "    for wl, wr in input_seq:\n",
    "        v = (wl + wr) * r / 2      \n",
    "        w = (wl - wr) * r / L \n",
    "\n",
    "        x = x + v * delta_t * math.cos(theta)\n",
    "        y = y + v * delta_t * math.sin(theta)\n",
    "        theta = theta + w * delta_t\n",
    "\n",
    "        if theta > math.pi:\n",
    "            theta = theta - 2*math.pi\n",
    "        elif theta < -math.pi:\n",
    "            theta = (2*math.pi + theta)\n",
    "        \n",
    "        path.append([x,y,theta])\n",
    "    \n",
    "    return path"
   ]
  },
  {
   "cell_type": "code",
   "execution_count": 16,
   "metadata": {},
   "outputs": [],
   "source": [
    "def loss(params):\n",
    "    real = generate_path(real_params[0], real_params[1])\n",
    "    pred = generate_path(params[0], params[1])\n",
    "    return np.sqrt(np.mean((np.array(pred) - np.array(real)) ** 2))"
   ]
  },
  {
   "cell_type": "code",
   "execution_count": 17,
   "metadata": {},
   "outputs": [],
   "source": [
    "def dist2target(path,target=[0,0]):\n",
    "    return [np.linalg.norm(target)-np.array(step[0:-1])) for step in path]"
   ]
  },
  {
   "cell_type": "code",
   "execution_count": 18,
   "metadata": {},
   "outputs": [],
   "source": [
    "L = 0.8\n",
    "r = 0.69\n",
    "real_params = [L,r]\n",
    "\n",
    "L_fake = 0.6\n",
    "r_fake = 0.13\n",
    "fake_params = [L_fake,r_fake]\n",
    "\n",
    "test_loss = loss(real_params)\n"
   ]
  },
  {
   "cell_type": "code",
   "execution_count": 19,
   "metadata": {},
   "outputs": [
    {
     "output_type": "stream",
     "name": "stdout",
     "text": [
      "Iterat #Fevals   function value  axis ratio  sigma  min&max std  t[m:s]\n",
      "    1      6 7.188720072169344e-02 1.0e+00 4.39e-01  3e-01  5e-01 0:00.0\n",
      "    2     12 2.755491942895244e-02 1.4e+00 7.14e-01  6e-01  7e-01 0:00.0\n",
      "    3     18 1.811749335266345e-02 1.3e+00 7.32e-01  6e-01  6e-01 0:00.0\n",
      "  100    600 2.623307939999283e-13 4.7e+00 5.82e-08  2e-12  7e-12 0:00.3\n"
     ]
    },
    {
     "output_type": "execute_result",
     "data": {
      "text/plain": [
       "<cma.evolution_strategy.CMAEvolutionStrategy at 0x125f941f408>"
      ]
     },
     "metadata": {},
     "execution_count": 19
    }
   ],
   "source": [
    "es = cma.CMAEvolutionStrategy(len(real_params) * [0], 0.5, {'verbose': -3})\n",
    "es.optimize(loss)"
   ]
  },
  {
   "cell_type": "code",
   "execution_count": 20,
   "metadata": {},
   "outputs": [
    {
     "output_type": "stream",
     "name": "stdout",
     "text": [
      "Best loss value: 1.1e-13\n"
     ]
    }
   ],
   "source": [
    "print(f'Best loss value: {loss(es.result.xbest):.2}')"
   ]
  },
  {
   "cell_type": "code",
   "execution_count": 21,
   "metadata": {},
   "outputs": [
    {
     "output_type": "stream",
     "name": "stdout",
     "text": [
      "The parameters set is: L = 0.800000000001304, r = 0.6900000000009019\n"
     ]
    }
   ],
   "source": [
    "print('The parameters set is: L = {}, r = {}'.format(es.result.xbest[0],es.result.xbest[1]))\n"
   ]
  },
  {
   "cell_type": "code",
   "execution_count": 1,
   "metadata": {},
   "outputs": [],
   "source": [
    "# Alternative with full control \n",
    "import numpy as np\n",
    "import cma\n",
    "import re\n",
    "import math\n",
    "\n",
    "x0 = 0.3\n",
    "y0 = 0.3 \n",
    "theta0 = math.pi\n",
    "delta_t = 0.01\n",
    "\n",
    "input_seq = [\n",
    "                [0,1],[0,1],[0,1],[0,1],[0,1],[0,1],[0,1],[1,1],[1,1],[1,1],[1,1],[1,1],[1,1],[1,1],[1,1],[1,1],\n",
    "                [1,1],[1,1],[1,1],[1,0],[1,0],[1,0],[1,0],[1,0],[1,0],[1,0],[1,0],[1,0],[1,0],[1,0.3],[1,0.3],\n",
    "                [1,0.3],[1,0.3],[1,0.3],[1,0.3],[1,0.3],[1,0.3],[1,0.3],[1,0.3],[1,0.3],[1,0.3],[1,0.3],[0.3,1],\n",
    "                [0.3,1],[0.3,1],[0.3,1],[0.3,1],[0.3,1],[0.3,1],[0.3,1],[0.3,1],[0.3,1],[0.3,1]\n",
    "            ]\n",
    "\n",
    "def generate_mpc_history(r, input_seq):\n",
    "    x = x0\n",
    "    y = y0\n",
    "    theta = theta0\n",
    "\n",
    "    hist = []\n",
    "    elem = {'init_state':[x,y,theta]}\n",
    "    for wl, wr in input_seq:\n",
    "        v = (wl + wr) * r / 2      \n",
    "        w = (wl - wr) * r / L \n",
    "\n",
    "        x = x + v * delta_t * math.cos(theta)\n",
    "        y = y + v * delta_t * math.sin(theta)\n",
    "        theta = theta + w * delta_t\n",
    "\n",
    "        if theta > math.pi:\n",
    "            theta = theta - 2*math.pi\n",
    "        elif theta < -math.pi:\n",
    "            theta = (2*math.pi + theta)\n",
    "        \n",
    "        elem['input'] = [wl, wr]\n",
    "        elem['end_state'] = [x,y,theta]\n",
    "        hist.append(elem)\n",
    "        elem = {'init_state':[x,y,theta]}\n",
    "    return hist\n",
    "\n",
    "def generate_step_history(r, mpc_history):\n",
    "    hist = []\n",
    "    for elem in mpc_history:\n",
    "        x0, y0, theta0 = elem['init_state']\n",
    "        wl, wr = elem['input']\n",
    "\n",
    "        v = (wl + wr) * r / 2      \n",
    "        w = (wl - wr) * r / L \n",
    "\n",
    "        x = x0 + v * delta_t * math.cos(theta0)\n",
    "        y = y0 + v * delta_t * math.sin(theta0)\n",
    "        theta = theta0 + w * delta_t\n",
    "\n",
    "        if theta > math.pi:\n",
    "            theta = theta - 2*math.pi\n",
    "        elif theta < -math.pi:\n",
    "            theta = (2*math.pi + theta)\n",
    "        \n",
    "        hist.append([x,y,theta])\n",
    "    return hist\n",
    "\n",
    "def get_mean_sigma(param_set):\n",
    "    min_param = min(param_set)\n",
    "    max_param = max(param_set)\n",
    "\n",
    "    mean = (min_param+max_param)/2\n",
    "    sigma = (max_param-min_param)/4\n",
    "\n",
    "    return mean, sigma\n",
    "\n",
    "def loss(param_val):\n",
    "    step_hist = generate_step_history(param_val[0], mpc_history)\n",
    "    return np.sqrt(np.mean((np.array(step_mpc_history) - np.array(step_hist)) ** 2))"
   ]
  },
  {
   "cell_type": "code",
   "execution_count": 2,
   "metadata": {},
   "outputs": [
    {
     "output_type": "stream",
     "name": "stdout",
     "text": [
      "0.14500000000000002 0.012500000000000004\n"
     ]
    }
   ],
   "source": [
    "PARAMS_NUM = 1\n",
    "SCENARIOS_NUM = 3\n",
    "\n",
    "L = 0.5\n",
    "r_set = [0.12, 0.16, 0.17]\n",
    "\n",
    "true_r = 0.15\n",
    "\n",
    "mean, sigma = get_mean_sigma(r_set)\n",
    "print(mean, sigma)"
   ]
  },
  {
   "cell_type": "code",
   "execution_count": 3,
   "metadata": {
    "tags": []
   },
   "outputs": [
    {
     "output_type": "stream",
     "name": "stdout",
     "text": [
      "Iterat #Fevals   function value  axis ratio  sigma  min&max std  t[m:s]\n",
      "    1      3 6.153430754856776e-05 1.0e+00 1.14e-02  1e-02  1e-02 0:00.0\n",
      "    2      6 1.452835660685141e-05 1.1e+00 9.96e-03  9e-03  1e-02 0:00.0\n",
      "    3      9 1.630205031616936e-05 1.1e+00 7.52e-03  6e-03  7e-03 0:00.0\n",
      "terminated on {}\n"
     ]
    }
   ],
   "source": [
    "mpc_history = generate_mpc_history(true_r,input_seq)\n",
    "step_mpc_history = [elem['end_state'] for elem in mpc_history]\n",
    "\n",
    "es = cma.CMAEvolutionStrategy((PARAMS_NUM+1)*[mean], sigma, {'verbose': -3,'popsize': SCENARIOS_NUM})\n",
    "while not es.stop() and es.best.f > 1e-5:\n",
    "    solutions = es.ask()\n",
    "    es.tell(solutions, [loss(param_val) for param_val in solutions])\n",
    "    es.disp(20)\n",
    "print('terminated on ' + str(es.stop()))\n"
   ]
  },
  {
   "cell_type": "code",
   "execution_count": 25,
   "metadata": {},
   "outputs": [
    {
     "output_type": "stream",
     "name": "stdout",
     "text": [
      "The parameters set is: r = 0.14900799736561005, _ = 0.14741830104565612\nCMAEvolutionStrategyResult(xbest=array([0.149008 , 0.1474183]), fbest=9.355888426736481e-06, evals_best=31, evaluations=33, iterations=11, xfavorite=array([0.149008 , 0.1474183]), stds=array([0.00601246, 0.01011005]), stop={})\n"
     ]
    }
   ],
   "source": [
    "print('The parameters set is: r = {}, _ = {}'.format(es.result.xbest[0],es.result.xbest[1]))\n",
    "print(es.result)"
   ]
  },
  {
   "cell_type": "code",
   "execution_count": 26,
   "metadata": {},
   "outputs": [
    {
     "output_type": "stream",
     "name": "stdout",
     "text": [
      "[0.15658645718077466, 0.15345220385878075, 0.14449769793239053]\n"
     ]
    }
   ],
   "source": [
    "new_param_set = [sample[0] for sample in es.ask()]\n",
    "print(new_param_set)"
   ]
  },
  {
   "cell_type": "code",
   "execution_count": 6,
   "metadata": {},
   "outputs": [
    {
     "output_type": "stream",
     "name": "stdout",
     "text": [
      "[0.15218443840685525, 0.15227185888958572, 0.1538617368789623]\n",
      "[-0.021292689365684375, 0.07557704231889084, 0.09536875359374977]\n",
      "[0.148001117210121, 0.14819136741304975, 0.14943845657947774]\n",
      "[0.14967197307306876, 0.14994753192390947, 0.15027692733080297]\n",
      "[0.1495155341303793, 0.1496551160968137, 0.14965618343268566]\n",
      "[0.1495172701864073, 0.14953716361984723, 0.14957064731019792]\n",
      "[0.1495307271764757, 0.14953699407221913, 0.1495462986663896]\n",
      "[0.14953830245128322, 0.14953886558051957, 0.14954014036656121]\n",
      "[0.14954037880034388, 0.1495405893810501, 0.14954093156689605]\n",
      "[0.14954068796250836, 0.1495409019884142, 0.14954093231954732]\n",
      "[0.14954096514046325, 0.14954098541473507, 0.14954098901561175]\n",
      "[0.14954096842819298, 0.14954096975519038, 0.14954097545232964]\n",
      "[0.14954097220501655, 0.14954097327046365, 0.14954097682324577]\n",
      "[0.1495409726713256, 0.14954097322957918, 0.1495409750390309]\n",
      "[0.1495409740534299, 0.14954097482595965, 0.14954097545331888]\n",
      "[0.14954097446279505, 0.14954097504346678, 0.14954097507899505]\n",
      "[0.1495409750055486, 0.14954097510952674, 0.14954097516387618]\n",
      "[0.14954097507481795, 0.14954097511393788, 0.14954097517644638]\n",
      "[0.14954097509754036, 0.14954097513881717, 0.14954097518210172]\n",
      "[0.14954097514292267, 0.14954097517599466, 0.14954097518164416]\n",
      "[0.14954097517160414, 0.14954097518468484, 0.1495409751898801]\n",
      "[0.14954097518766266, 0.14954097518866888, 0.14954097519170131]\n",
      "[0.1495409751892827, 0.14954097519118706, 0.14954097519145257]\n",
      "[0.14954097519005924, 0.14954097519041026, 0.14954097519120502]\n",
      "[0.1495409751910306, 0.14954097519118129, 0.14954097519122897]\n",
      "[0.1495409751911624, 0.14954097519118012, 0.14954097519121987]\n",
      "[0.14954097519118126, 0.14954097519123552, 0.14954097519125165]\n",
      "[0.14954097519121318, 0.14954097519124257, 0.149540975191252]\n",
      "[0.1495409751912209, 0.149540975191233, 0.1495409751912442]\n",
      "[0.14954097519123832, 0.1495409751912501, 0.14954097519125656]\n",
      "[0.149540975191251, 0.14954097519125548, 0.14954097519126427]\n",
      "[0.1495409751912647, 0.1495409751912687, 0.1495409751912708]\n",
      "[0.14954097519126866, 0.1495409751912704, 0.1495409751912704]\n",
      "[0.14954097519126996, 0.14954097519126996, 0.14954097519127013]\n",
      "[0.14954097519127013, 0.14954097519127016, 0.14954097519127016]\n",
      "[0.14954097519127013, 0.14954097519127013, 0.14954097519127013]\n"
     ]
    },
    {
     "output_type": "error",
     "ename": "AssertionError",
     "evalue": "",
     "traceback": [
      "\u001b[1;31m---------------------------------------------------------------------------\u001b[0m",
      "\u001b[1;31mAssertionError\u001b[0m                            Traceback (most recent call last)",
      "\u001b[1;32m<ipython-input-6-2056758817fa>\u001b[0m in \u001b[0;36m<module>\u001b[1;34m\u001b[0m\n\u001b[0;32m     13\u001b[0m \u001b[1;33m\u001b[0m\u001b[0m\n\u001b[0;32m     14\u001b[0m \u001b[1;32mfor\u001b[0m \u001b[0m_\u001b[0m \u001b[1;32min\u001b[0m \u001b[0mrange\u001b[0m\u001b[1;33m(\u001b[0m\u001b[1;36m100\u001b[0m\u001b[1;33m)\u001b[0m\u001b[1;33m:\u001b[0m\u001b[1;33m\u001b[0m\u001b[1;33m\u001b[0m\u001b[0m\n\u001b[1;32m---> 15\u001b[1;33m     \u001b[0mr_set\u001b[0m \u001b[1;33m=\u001b[0m \u001b[0mes_wrapper\u001b[0m\u001b[1;33m.\u001b[0m\u001b[0moptimize_step\u001b[0m\u001b[1;33m(\u001b[0m\u001b[0mr_set\u001b[0m\u001b[1;33m,\u001b[0m \u001b[0mmpc_history\u001b[0m\u001b[1;33m)\u001b[0m\u001b[1;33m\u001b[0m\u001b[1;33m\u001b[0m\u001b[0m\n\u001b[0m\u001b[0;32m     16\u001b[0m     \u001b[0mprint\u001b[0m\u001b[1;33m(\u001b[0m\u001b[0mr_set\u001b[0m\u001b[1;33m)\u001b[0m\u001b[1;33m\u001b[0m\u001b[1;33m\u001b[0m\u001b[0m\n\u001b[0;32m     17\u001b[0m \u001b[1;33m\u001b[0m\u001b[0m\n",
      "\u001b[1;32mc:\\Users\\fhfonsecaa\\Desktop\\AMR WS\\Final Project\\src\\do-mpc\\jupyter_notebooks\\cma_es_wrapper.py\u001b[0m in \u001b[0;36moptimize_step\u001b[1;34m(self, param_set, mpc_history)\u001b[0m\n\u001b[0;32m     69\u001b[0m         \u001b[1;32mwhile\u001b[0m \u001b[1;32mnot\u001b[0m \u001b[0mes\u001b[0m\u001b[1;33m.\u001b[0m\u001b[0mstop\u001b[0m\u001b[1;33m(\u001b[0m\u001b[1;33m)\u001b[0m \u001b[1;32mand\u001b[0m \u001b[0mes\u001b[0m\u001b[1;33m.\u001b[0m\u001b[0mbest\u001b[0m\u001b[1;33m.\u001b[0m\u001b[0mf\u001b[0m \u001b[1;33m>\u001b[0m \u001b[1;36m1e-5\u001b[0m\u001b[1;33m:\u001b[0m\u001b[1;33m\u001b[0m\u001b[1;33m\u001b[0m\u001b[0m\n\u001b[0;32m     70\u001b[0m             \u001b[0msolutions\u001b[0m \u001b[1;33m=\u001b[0m \u001b[0mes\u001b[0m\u001b[1;33m.\u001b[0m\u001b[0mask\u001b[0m\u001b[1;33m(\u001b[0m\u001b[1;33m)\u001b[0m\u001b[1;33m\u001b[0m\u001b[1;33m\u001b[0m\u001b[0m\n\u001b[1;32m---> 71\u001b[1;33m             \u001b[0mes\u001b[0m\u001b[1;33m.\u001b[0m\u001b[0mtell\u001b[0m\u001b[1;33m(\u001b[0m\u001b[0msolutions\u001b[0m\u001b[1;33m,\u001b[0m \u001b[1;33m[\u001b[0m\u001b[0mself\u001b[0m\u001b[1;33m.\u001b[0m\u001b[0mloss\u001b[0m\u001b[1;33m(\u001b[0m\u001b[0mparam_val\u001b[0m\u001b[1;33m)\u001b[0m \u001b[1;32mfor\u001b[0m \u001b[0mparam_val\u001b[0m \u001b[1;32min\u001b[0m \u001b[0msolutions\u001b[0m\u001b[1;33m]\u001b[0m\u001b[1;33m)\u001b[0m\u001b[1;33m\u001b[0m\u001b[1;33m\u001b[0m\u001b[0m\n\u001b[0m\u001b[0;32m     72\u001b[0m         \u001b[0mes\u001b[0m\u001b[1;33m.\u001b[0m\u001b[0mstop\u001b[0m\u001b[1;33m(\u001b[0m\u001b[1;33m)\u001b[0m\u001b[1;33m\u001b[0m\u001b[1;33m\u001b[0m\u001b[0m\n\u001b[0;32m     73\u001b[0m         \u001b[0mnew_param_set\u001b[0m \u001b[1;33m=\u001b[0m \u001b[0msorted\u001b[0m\u001b[1;33m(\u001b[0m\u001b[1;33m[\u001b[0m\u001b[0msample\u001b[0m\u001b[1;33m[\u001b[0m\u001b[1;36m0\u001b[0m\u001b[1;33m]\u001b[0m \u001b[1;32mfor\u001b[0m \u001b[0msample\u001b[0m \u001b[1;32min\u001b[0m \u001b[0mes\u001b[0m\u001b[1;33m.\u001b[0m\u001b[0mask\u001b[0m\u001b[1;33m(\u001b[0m\u001b[1;33m)\u001b[0m\u001b[1;33m]\u001b[0m\u001b[1;33m,\u001b[0m \u001b[0mkey\u001b[0m\u001b[1;33m=\u001b[0m\u001b[0mfloat\u001b[0m\u001b[1;33m)\u001b[0m\u001b[1;33m\u001b[0m\u001b[1;33m\u001b[0m\u001b[0m\n",
      "\u001b[1;32m~\\Anaconda3\\envs\\AMR-MOD\\lib\\site-packages\\cma\\evolution_strategy.py\u001b[0m in \u001b[0;36mtell\u001b[1;34m(self, solutions, function_values, check_points, copy)\u001b[0m\n\u001b[0;32m   2857\u001b[0m                 self.sm.update([(c1 / (c1a + 1e-23))**0.5 * self.pc] +  # c1a * pc**2 gets c1 * pc**2\n\u001b[0;32m   2858\u001b[0m                               \u001b[0mlist\u001b[0m\u001b[1;33m(\u001b[0m\u001b[0mpop_zero\u001b[0m \u001b[1;33m/\u001b[0m \u001b[1;33m(\u001b[0m\u001b[0mself\u001b[0m\u001b[1;33m.\u001b[0m\u001b[0msigma\u001b[0m \u001b[1;33m*\u001b[0m \u001b[0mself\u001b[0m\u001b[1;33m.\u001b[0m\u001b[0msigma_vec\u001b[0m\u001b[1;33m.\u001b[0m\u001b[0mscaling\u001b[0m\u001b[1;33m)\u001b[0m\u001b[1;33m)\u001b[0m\u001b[1;33m,\u001b[0m\u001b[1;33m\u001b[0m\u001b[1;33m\u001b[0m\u001b[0m\n\u001b[1;32m-> 2859\u001b[1;33m                               sampler_weights)\n\u001b[0m\u001b[0;32m   2860\u001b[0m             \u001b[1;32mif\u001b[0m \u001b[0many\u001b[0m\u001b[1;33m(\u001b[0m\u001b[0mnp\u001b[0m\u001b[1;33m.\u001b[0m\u001b[0masarray\u001b[0m\u001b[1;33m(\u001b[0m\u001b[0mself\u001b[0m\u001b[1;33m.\u001b[0m\u001b[0msm\u001b[0m\u001b[1;33m.\u001b[0m\u001b[0mvariances\u001b[0m\u001b[1;33m)\u001b[0m \u001b[1;33m<\u001b[0m \u001b[1;36m0\u001b[0m\u001b[1;33m)\u001b[0m\u001b[1;33m:\u001b[0m\u001b[1;33m\u001b[0m\u001b[1;33m\u001b[0m\u001b[0m\n\u001b[0;32m   2861\u001b[0m                 raise RuntimeError(\"\"\"A sampler variance has become\n",
      "\u001b[1;32m~\\Anaconda3\\envs\\AMR-MOD\\lib\\site-packages\\cma\\sampler.py\u001b[0m in \u001b[0;36mupdate\u001b[1;34m(self, vectors, weights, c1_times_delta_hsigma)\u001b[0m\n\u001b[0;32m    273\u001b[0m         \u001b[0mweights\u001b[0m \u001b[1;33m=\u001b[0m \u001b[0mnp\u001b[0m\u001b[1;33m.\u001b[0m\u001b[0marray\u001b[0m\u001b[1;33m(\u001b[0m\u001b[0mweights\u001b[0m\u001b[1;33m,\u001b[0m \u001b[0mcopy\u001b[0m\u001b[1;33m=\u001b[0m\u001b[1;32mTrue\u001b[0m\u001b[1;33m)\u001b[0m\u001b[1;33m\u001b[0m\u001b[1;33m\u001b[0m\u001b[0m\n\u001b[0;32m    274\u001b[0m         \u001b[0mvectors\u001b[0m \u001b[1;33m=\u001b[0m \u001b[0mnp\u001b[0m\u001b[1;33m.\u001b[0m\u001b[0masarray\u001b[0m\u001b[1;33m(\u001b[0m\u001b[0mvectors\u001b[0m\u001b[1;33m)\u001b[0m \u001b[1;31m# row vectors\u001b[0m\u001b[1;33m\u001b[0m\u001b[1;33m\u001b[0m\u001b[0m\n\u001b[1;32m--> 275\u001b[1;33m         \u001b[1;32massert\u001b[0m \u001b[0mnp\u001b[0m\u001b[1;33m.\u001b[0m\u001b[0misfinite\u001b[0m\u001b[1;33m(\u001b[0m\u001b[0mvectors\u001b[0m\u001b[1;33m[\u001b[0m\u001b[1;36m0\u001b[0m\u001b[1;33m]\u001b[0m\u001b[1;33m[\u001b[0m\u001b[1;36m0\u001b[0m\u001b[1;33m]\u001b[0m\u001b[1;33m)\u001b[0m\u001b[1;33m\u001b[0m\u001b[1;33m\u001b[0m\u001b[0m\n\u001b[0m\u001b[0;32m    276\u001b[0m         \u001b[1;32massert\u001b[0m \u001b[0mlen\u001b[0m\u001b[1;33m(\u001b[0m\u001b[0mweights\u001b[0m\u001b[1;33m)\u001b[0m \u001b[1;33m==\u001b[0m \u001b[0mlen\u001b[0m\u001b[1;33m(\u001b[0m\u001b[0mvectors\u001b[0m\u001b[1;33m)\u001b[0m\u001b[1;33m\u001b[0m\u001b[1;33m\u001b[0m\u001b[0m\n\u001b[0;32m    277\u001b[0m \u001b[1;33m\u001b[0m\u001b[0m\n",
      "\u001b[1;31mAssertionError\u001b[0m: "
     ]
    }
   ],
   "source": [
    "# With the wrapper\n",
    "from cma_es_wrapper import CMA_ES_Wrapper\n",
    "\n",
    "true_r = 0.15\n",
    "r_set = [0.12, 0.16, 0.17]\n",
    "\n",
    "mpc_history = generate_mpc_history(true_r,input_seq)\n",
    "\n",
    "es_wrapper = CMA_ES_Wrapper()\n",
    "\n",
    "# r_set = es_wrapper.optimize_step(r_set, mpc_history)\n",
    "# print(r_set)\n",
    "\n",
    "for _ in range(100):\n",
    "    r_set = es_wrapper.optimize_step(r_set, mpc_history)\n",
    "    print(r_set)\n",
    "\n"
   ]
  }
 ]
}
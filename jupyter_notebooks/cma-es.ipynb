{
 "metadata": {
  "language_info": {
   "codemirror_mode": {
    "name": "ipython",
    "version": 3
   },
   "file_extension": ".py",
   "mimetype": "text/x-python",
   "name": "python",
   "nbconvert_exporter": "python",
   "pygments_lexer": "ipython3",
   "version": "3.7.9"
  },
  "orig_nbformat": 2,
  "kernelspec": {
   "name": "python379jvsc74a57bd076b905e77a6f4189cfd7c6e065b260d28379a07c5050b52264453aa04cffd78b",
   "display_name": "Python 3.7.9 64-bit ('AMR-MOD': conda)"
  }
 },
 "nbformat": 4,
 "nbformat_minor": 2,
 "cells": [
  {
   "cell_type": "code",
   "execution_count": 23,
   "metadata": {},
   "outputs": [],
   "source": [
    "import numpy as np\n",
    "import cma\n",
    "import re\n",
    "import math\n",
    "\n",
    "x0 = 0.3\n",
    "y0 = 0.3 \n",
    "thetha0 = math.pi\n",
    "delta_t = 0.01\n",
    "\n",
    "input_seq = [\n",
    "                [0,1],[0,1],[0,1],[0,1],[0,1],[0,1],[0,1],[1,1],[1,1],[1,1],[1,1],[1,1],[1,1],[1,1],[1,1],[1,1],\n",
    "                [1,1],[1,1],[1,1],[1,0],[1,0],[1,0],[1,0],[1,0],[1,0],[1,0],[1,0],[1,0],[1,0],[1,0.3],[1,0.3],\n",
    "                [1,0.3],[1,0.3],[1,0.3],[1,0.3],[1,0.3],[1,0.3],[1,0.3],[1,0.3],[1,0.3],[1,0.3],[1,0.3],[0.3,1],\n",
    "                [0.3,1],[0.3,1],[0.3,1],[0.3,1],[0.3,1],[0.3,1],[0.3,1],[0.3,1],[0.3,1],[0.3,1]\n",
    "            ]"
   ]
  },
  {
   "cell_type": "code",
   "execution_count": 24,
   "metadata": {},
   "outputs": [],
   "source": [
    "def generate_path(L, r):\n",
    "    x = x0\n",
    "    y = y0\n",
    "    theta = thetha0\n",
    "\n",
    "    path = [[x,y,theta]]\n",
    "\n",
    "    for wl, wr in input_seq:\n",
    "        v = (wl + wr) * r / 2      \n",
    "        w = (wl - wr) * r / L \n",
    "\n",
    "        x = x + v * delta_t * math.cos(theta)\n",
    "        y = y + v * delta_t * math.sin(theta)\n",
    "        theta = theta + w * delta_t\n",
    "\n",
    "        if theta > math.pi:\n",
    "            theta = theta - 2*math.pi\n",
    "        elif theta < -math.pi:\n",
    "            theta = (2*math.pi + theta)\n",
    "        \n",
    "        path.append([x,y,theta])\n",
    "    \n",
    "    return path"
   ]
  },
  {
   "cell_type": "code",
   "execution_count": 25,
   "metadata": {},
   "outputs": [],
   "source": [
    "def loss(params):\n",
    "    real = generate_path(real_params[0], real_params[1])\n",
    "    pred = generate_path(params[0], params[1])\n",
    "    return np.sqrt(np.mean((np.array(pred) - np.array(real)) ** 2))"
   ]
  },
  {
   "cell_type": "code",
   "execution_count": 26,
   "metadata": {},
   "outputs": [],
   "source": [
    "def dist2target(path,target=[0,0]):\n",
    "    return [np.linalg.norm(np.array(target)-np.array(step[0:-1])) for step in path]"
   ]
  },
  {
   "cell_type": "code",
   "execution_count": 32,
   "metadata": {},
   "outputs": [],
   "source": [
    "L = 0.8\n",
    "r = 0.69\n",
    "real_params = [L,r]\n",
    "\n",
    "L_fake = 0.6\n",
    "r_fake = 0.13\n",
    "fake_params = [L_fake,r_fake]\n",
    "\n",
    "test_loss = loss(real_params)\n"
   ]
  },
  {
   "cell_type": "code",
   "execution_count": 33,
   "metadata": {},
   "outputs": [
    {
     "output_type": "stream",
     "name": "stdout",
     "text": [
      "Iterat #Fevals   function value  axis ratio  sigma  min&max std  t[m:s]\n",
      "    1      6 4.814786508091922e-02 1.0e+00 4.79e-01  4e-01  5e-01 0:00.0\n",
      "    2     12 9.548683667499348e-03 1.4e+00 6.29e-01  6e-01  7e-01 0:00.0\n",
      "    3     18 2.300800026275202e-02 1.8e+00 1.03e+00  9e-01  1e+00 0:00.0\n",
      "  100    600 5.290247991001608e-11 3.9e+00 5.68e-06  9e-10  2e-09 0:00.3\n",
      "  121    726 3.006860771946620e-13 3.7e+00 1.33e-07  3e-12  6e-12 0:00.4\n"
     ]
    },
    {
     "output_type": "execute_result",
     "data": {
      "text/plain": [
       "<cma.evolution_strategy.CMAEvolutionStrategy at 0x2044ae9ad48>"
      ]
     },
     "metadata": {},
     "execution_count": 33
    }
   ],
   "source": [
    "es = cma.CMAEvolutionStrategy(len(real_params) * [0], 0.5, {'verbose': -3})\n",
    "es.optimize(loss)"
   ]
  },
  {
   "cell_type": "code",
   "execution_count": 30,
   "metadata": {},
   "outputs": [
    {
     "output_type": "stream",
     "name": "stdout",
     "text": [
      "Best loss value: 5.6e-14\n"
     ]
    }
   ],
   "source": [
    "print(f'Best loss value: {loss(es.result.xbest):.2}')"
   ]
  },
  {
   "cell_type": "code",
   "execution_count": 36,
   "metadata": {},
   "outputs": [
    {
     "output_type": "stream",
     "name": "stdout",
     "text": [
      "The parameters set is: L = 0.7999999999983491, r = 0.6899999999976001\n"
     ]
    }
   ],
   "source": [
    "print('The parameters set is: L = {}, r = {}'.format(es.result.xbest[0],es.result.xbest[1]))\n"
   ]
  },
  {
   "cell_type": "code",
   "execution_count": null,
   "metadata": {},
   "outputs": [],
   "source": []
  }
 ]
}
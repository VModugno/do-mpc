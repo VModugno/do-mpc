{
 "metadata": {
  "language_info": {
   "codemirror_mode": {
    "name": "ipython",
    "version": 3
   },
   "file_extension": ".py",
   "mimetype": "text/x-python",
   "name": "python",
   "nbconvert_exporter": "python",
   "pygments_lexer": "ipython3",
   "version": "3.7.9"
  },
  "orig_nbformat": 2,
  "kernelspec": {
   "name": "python379jvsc74a57bd076b905e77a6f4189cfd7c6e065b260d28379a07c5050b52264453aa04cffd78b",
   "display_name": "Python 3.7.9 64-bit ('AMR-MOD': conda)"
  }
 },
 "nbformat": 4,
 "nbformat_minor": 2,
 "cells": [
  {
   "cell_type": "code",
   "execution_count": 31,
   "metadata": {},
   "outputs": [],
   "source": [
    "import numpy as np\n",
    "import cma\n",
    "import re\n",
    "import math\n",
    "\n",
    "x0 = 0.3\n",
    "y0 = 0.3 \n",
    "theta0 = math.pi\n",
    "delta_t = 0.01\n",
    "\n",
    "input_seq = [\n",
    "                [0,1],[0,1],[0,1],[0,1],[0,1],[0,1],[0,1],[1,1],[1,1],[1,1],[1,1],[1,1],[1,1],[1,1],[1,1],[1,1],\n",
    "                [1,1],[1,1],[1,1],[1,0],[1,0],[1,0],[1,0],[1,0],[1,0],[1,0],[1,0],[1,0],[1,0],[1,0.3],[1,0.3],\n",
    "                [1,0.3],[1,0.3],[1,0.3],[1,0.3],[1,0.3],[1,0.3],[1,0.3],[1,0.3],[1,0.3],[1,0.3],[1,0.3],[0.3,1],\n",
    "                [0.3,1],[0.3,1],[0.3,1],[0.3,1],[0.3,1],[0.3,1],[0.3,1],[0.3,1],[0.3,1],[0.3,1]\n",
    "            ]"
   ]
  },
  {
   "cell_type": "code",
   "execution_count": 15,
   "metadata": {},
   "outputs": [],
   "source": [
    "def generate_path(L, r):\n",
    "    x = x0\n",
    "    y = y0\n",
    "    theta = thetha0\n",
    "\n",
    "    path = [[x,y,theta]]\n",
    "\n",
    "    for wl, wr in input_seq:\n",
    "        v = (wl + wr) * r / 2      \n",
    "        w = (wl - wr) * r / L \n",
    "\n",
    "        x = x + v * delta_t * math.cos(theta)\n",
    "        y = y + v * delta_t * math.sin(theta)\n",
    "        theta = theta + w * delta_t\n",
    "\n",
    "        if theta > math.pi:\n",
    "            theta = theta - 2*math.pi\n",
    "        elif theta < -math.pi:\n",
    "            theta = (2*math.pi + theta)\n",
    "        \n",
    "        path.append([x,y,theta])\n",
    "    \n",
    "    return path"
   ]
  },
  {
   "cell_type": "code",
   "execution_count": 16,
   "metadata": {},
   "outputs": [],
   "source": [
    "def loss(params):\n",
    "    real = generate_path(real_params[0], real_params[1])\n",
    "    pred = generate_path(params[0], params[1])\n",
    "    return np.sqrt(np.mean((np.array(pred) - np.array(real)) ** 2))"
   ]
  },
  {
   "cell_type": "code",
   "execution_count": 17,
   "metadata": {},
   "outputs": [],
   "source": [
    "def dist2target(path,target=[0,0]):\n",
    "    return [np.linalg.norm(target)-np.array(step[0:-1])) for step in path]"
   ]
  },
  {
   "cell_type": "code",
   "execution_count": 18,
   "metadata": {},
   "outputs": [],
   "source": [
    "L = 0.8\n",
    "r = 0.69\n",
    "real_params = [L,r]\n",
    "\n",
    "L_fake = 0.6\n",
    "r_fake = 0.13\n",
    "fake_params = [L_fake,r_fake]\n",
    "\n",
    "test_loss = loss(real_params)\n"
   ]
  },
  {
   "cell_type": "code",
   "execution_count": 19,
   "metadata": {},
   "outputs": [
    {
     "output_type": "stream",
     "name": "stdout",
     "text": [
      "Iterat #Fevals   function value  axis ratio  sigma  min&max std  t[m:s]\n",
      "    1      6 7.188720072169344e-02 1.0e+00 4.39e-01  3e-01  5e-01 0:00.0\n",
      "    2     12 2.755491942895244e-02 1.4e+00 7.14e-01  6e-01  7e-01 0:00.0\n",
      "    3     18 1.811749335266345e-02 1.3e+00 7.32e-01  6e-01  6e-01 0:00.0\n",
      "  100    600 2.623307939999283e-13 4.7e+00 5.82e-08  2e-12  7e-12 0:00.3\n"
     ]
    },
    {
     "output_type": "execute_result",
     "data": {
      "text/plain": [
       "<cma.evolution_strategy.CMAEvolutionStrategy at 0x125f941f408>"
      ]
     },
     "metadata": {},
     "execution_count": 19
    }
   ],
   "source": [
    "es = cma.CMAEvolutionStrategy(len(real_params) * [0], 0.5, {'verbose': -3})\n",
    "es.optimize(loss)"
   ]
  },
  {
   "cell_type": "code",
   "execution_count": 20,
   "metadata": {},
   "outputs": [
    {
     "output_type": "stream",
     "name": "stdout",
     "text": [
      "Best loss value: 1.1e-13\n"
     ]
    }
   ],
   "source": [
    "print(f'Best loss value: {loss(es.result.xbest):.2}')"
   ]
  },
  {
   "cell_type": "code",
   "execution_count": 21,
   "metadata": {},
   "outputs": [
    {
     "output_type": "stream",
     "name": "stdout",
     "text": [
      "The parameters set is: L = 0.800000000001304, r = 0.6900000000009019\n"
     ]
    }
   ],
   "source": [
    "print('The parameters set is: L = {}, r = {}'.format(es.result.xbest[0],es.result.xbest[1]))\n"
   ]
  },
  {
   "cell_type": "code",
   "execution_count": 1,
   "metadata": {},
   "outputs": [],
   "source": [
    "# Alternative with full control \n",
    "import numpy as np\n",
    "import cma\n",
    "import re\n",
    "import math\n",
    "\n",
    "x0 = 0.3\n",
    "y0 = 0.3 \n",
    "theta0 = math.pi\n",
    "delta_t = 0.01\n",
    "\n",
    "input_seq = [\n",
    "                [0,1],[0,1],[0,1],[0,1],[0,1],[0,1],[0,1],[1,1],[1,1],[1,1],[1,1],[1,1],[1,1],[1,1],[1,1],[1,1],\n",
    "                [1,1],[1,1],[1,1],[1,0],[1,0],[1,0],[1,0],[1,0],[1,0],[1,0],[1,0],[1,0],[1,0],[1,0.3],[1,0.3],\n",
    "                [1,0.3],[1,0.3],[1,0.3],[1,0.3],[1,0.3],[1,0.3],[1,0.3],[1,0.3],[1,0.3],[1,0.3],[1,0.3],[0.3,1],\n",
    "                [0.3,1],[0.3,1],[0.3,1],[0.3,1],[0.3,1],[0.3,1],[0.3,1],[0.3,1],[0.3,1],[0.3,1]\n",
    "            ]\n",
    "\n",
    "def generate_mpc_history(r, input_seq):\n",
    "    x = x0\n",
    "    y = y0\n",
    "    theta = theta0\n",
    "\n",
    "    hist = []\n",
    "    elem = {'x':[x,y,theta]}\n",
    "    for wl, wr in input_seq:\n",
    "        v = (wl + wr) * r / 2      \n",
    "        w = (wl - wr) * r / L \n",
    "\n",
    "        x = x + v * delta_t * math.cos(theta)\n",
    "        y = y + v * delta_t * math.sin(theta)\n",
    "        theta = theta + w * delta_t\n",
    "\n",
    "        if theta > math.pi:\n",
    "            theta = theta - 2*math.pi\n",
    "        elif theta < -math.pi:\n",
    "            theta = (2*math.pi + theta)\n",
    "        \n",
    "        elem['u'] = [wl, wr]\n",
    "        elem['final_x'] = [x,y,theta]\n",
    "        hist.append(elem)\n",
    "        elem = {'x':[x,y,theta]}\n",
    "    return hist\n",
    "\n",
    "def generate_step_history(r, mpc_history):\n",
    "    hist = []\n",
    "    for elem in mpc_history:\n",
    "        x0, y0, theta0 = elem['x']\n",
    "        wl, wr = elem['u']\n",
    "\n",
    "        v = (wl + wr) * r / 2      \n",
    "        w = (wl - wr) * r / L \n",
    "\n",
    "        x = x0 + v * delta_t * math.cos(theta0)\n",
    "        y = y0 + v * delta_t * math.sin(theta0)\n",
    "        theta = theta0 + w * delta_t\n",
    "\n",
    "        if theta > math.pi:\n",
    "            theta = theta - 2*math.pi\n",
    "        elif theta < -math.pi:\n",
    "            theta = (2*math.pi + theta)\n",
    "        \n",
    "        hist.append([x,y,theta])\n",
    "    return hist\n",
    "\n",
    "def get_mean_sigma(param_set):\n",
    "    min_param = min(param_set)\n",
    "    max_param = max(param_set)\n",
    "\n",
    "    mean = (min_param+max_param)/2\n",
    "    sigma = (max_param-min_param)/4\n",
    "\n",
    "    return mean, sigma\n",
    "\n",
    "def loss(param_val): # {0.12, 0.16, 0.17}\n",
    "    step_hist = generate_step_history(param_val[0], mpc_history)\n",
    "    return np.sqrt(np.mean((np.array(step_mpc_history) - np.array(step_hist)) ** 2))"
   ]
  },
  {
   "cell_type": "code",
   "execution_count": 2,
   "metadata": {},
   "outputs": [
    {
     "output_type": "stream",
     "name": "stdout",
     "text": [
      "0.14500000000000002 0.012500000000000004\n"
     ]
    }
   ],
   "source": [
    "PARAMS_NUM = 1\n",
    "SCENARIOS_NUM = 3\n",
    "\n",
    "L = 0.5\n",
    "r_set = [0.12, 0.16, 0.17]\n",
    "\n",
    "true_r = 0.15\n",
    "\n",
    "mean, sigma = get_mean_sigma(r_set)\n",
    "print(mean, sigma)"
   ]
  },
  {
   "cell_type": "code",
   "execution_count": 3,
   "metadata": {
    "tags": []
   },
   "outputs": [
    {
     "output_type": "stream",
     "name": "stdout",
     "text": [
      "Iterat #Fevals   function value  axis ratio  sigma  min&max std  t[m:s]\n",
      "    1      3 1.449235829722768e-04 1.0e+00 1.40e-02  1e-02  2e-02 0:00.0\n",
      "    2      6 8.558900575653492e-05 1.2e+00 1.25e-02  1e-02  1e-02 0:00.0\n",
      "    3      9 2.337905165729445e-04 1.3e+00 1.25e-02  1e-02  1e-02 0:00.0\n",
      "terminated on {}\n"
     ]
    }
   ],
   "source": [
    "mpc_history = generate_mpc_history(true_r,input_seq)\n",
    "step_mpc_history = [elem['final_x'] for elem in mpc_history]\n",
    "\n",
    "es = cma.CMAEvolutionStrategy((PARAMS_NUM+1)*[mean], sigma, {'verbose': -3,'popsize': SCENARIOS_NUM})\n",
    "while not es.stop() and es.best.f > 1e-5:\n",
    "    solutions = es.ask()\n",
    "    es.tell(solutions, [loss(param_val) for param_val in solutions])\n",
    "    es.disp(20)\n",
    "print('terminated on ' + str(es.stop()))\n"
   ]
  },
  {
   "cell_type": "code",
   "execution_count": 4,
   "metadata": {},
   "outputs": [
    {
     "output_type": "stream",
     "name": "stdout",
     "text": [
      "The parameters set is: r = 0.1499908428537282, _ = 0.17017737118540063\nCMAEvolutionStrategyResult(xbest=array([0.14999084, 0.17017737]), fbest=8.636392277672802e-08, evals_best=40, evaluations=42, iterations=14, xfavorite=array([0.14999084, 0.17017737]), stds=array([0.00500316, 0.01035153]), stop={})\n"
     ]
    }
   ],
   "source": [
    "print('The parameters set is: r = {}, _ = {}'.format(es.result.xbest[0],es.result.xbest[1]))\n",
    "print(es.result)"
   ]
  },
  {
   "cell_type": "code",
   "execution_count": 5,
   "metadata": {},
   "outputs": [
    {
     "output_type": "stream",
     "name": "stdout",
     "text": [
      "[0.14612622640926962, 0.1522213363839518, 0.14621410027617812]\n"
     ]
    }
   ],
   "source": [
    "new_param_set = [sample[0] for sample in es.ask()]\n",
    "print(new_param_set)"
   ]
  },
  {
   "cell_type": "code",
   "execution_count": 6,
   "metadata": {},
   "outputs": [
    {
     "output_type": "stream",
     "name": "stdout",
     "text": [
      "[0.145683954711632, 0.15099593094826286, 0.15168382596948632]\n[0.1485199307056774, 0.1491782178365471, 0.15054209398141907]\n[0.14852491117039493, 0.14888779709917505, 0.14917726826444525]\n[0.14911040662427102, 0.1492268832623835, 0.14979017848931206]\n[0.14951547094274978, 0.1495380683400996, 0.14982955607971926]\n[0.14966578198560054, 0.14972113914075913, 0.14975779322522395]\n[0.14972921434408296, 0.14973983885320621, 0.14975121324105528]\n[0.14974660564218734, 0.1497653149091594, 0.1497718342422402]\n[0.14976770662524555, 0.14977259894657372, 0.14978117300216567]\n[0.14977224962010394, 0.1497753848465669, 0.14977672677570478]\n"
     ]
    }
   ],
   "source": [
    "# With the wrapper\n",
    "from cma_es_wrapper import CMA_ES_Wrapper\n",
    "\n",
    "true_r = 0.15\n",
    "r_set = [0.12, 0.16, 0.17]# ====> RL1, RL2, RL3\n",
    "\n",
    "#Do MPC   ======> hist [x, u, xf]\n",
    "\n",
    "mpc_history = generate_mpc_history(true_r,input_seq)\n",
    "\n",
    "es_wrapper = CMA_ES_Wrapper() # =======> new_param_set [r3, r4, r5]\n",
    "\n",
    "# result = es_wrapper.optimize(r_set, mpc_history)\n",
    "# print(result)\n",
    "\n",
    "for _ in range(10):\n",
    "    r_set = es_wrapper.optimize_step(r_set, mpc_history)\n",
    "    print(r_set)\n",
    "\n"
   ]
  },
  {
   "cell_type": "code",
   "execution_count": null,
   "metadata": {},
   "outputs": [],
   "source": [
    "experiment.axle_lengths"
   ]
  }
 ]
}
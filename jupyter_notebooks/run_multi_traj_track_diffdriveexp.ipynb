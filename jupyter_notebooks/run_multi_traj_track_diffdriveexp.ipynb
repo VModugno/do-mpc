{
 "cells": [
  {
   "cell_type": "code",
   "execution_count": null,
   "metadata": {},
   "outputs": [],
   "source": [
    "import numpy as np\n",
    "import do_mpc\n",
    "from DifferentialDriveExperiment import DifferentialDriveExperiment \n",
    "import baseline_integration as bi"
   ]
  },
  {
   "cell_type": "code",
   "execution_count": null,
   "metadata": {},
   "outputs": [],
   "source": [
    "ppo2_model_name = \"ppo2_meters_redesigned_1\"\n",
    "init_robot_pose = {'x': 0.12, 'y': -0.25, 'theta': -np.pi/2}\n",
    "obss, actions = bi.load_and_run_model(ppo2_model_name,500,list(init_robot_pose.values()))\n",
    "print(\"Ho {} obss e {} actions\".format(len(obss),len(actions)))\n",
    "bi.show_rl_trajectory(obss,actions)"
   ]
  },
  {
   "cell_type": "code",
   "execution_count": null,
   "metadata": {},
   "outputs": [],
   "source": [
    "experiment = DifferentialDriveExperiment(axle_lengths_dict={'values':[0.5,0.49]}, wheel_radii_dict={'values':[0.15]},\n",
    "                                         tracking_trajectories=[{'L':0.5,'r':0.15,'path':obss,'actions':actions},\n",
    "                                                                {'L':0.49,'r':0.15,'path':obss,'actions':actions}\n",
    "                                                               ])\n",
    "print(\"Quanti punti ho: {} \".format(len(experiment.tracking_trajectories[0]['path'])))\n",
    "experiment.setup_experiment(init_robot_pose)\n",
    "graphic_output_file = '20210429_tracking_ddrive.gif'"
   ]
  },
  {
   "cell_type": "code",
   "execution_count": null,
   "metadata": {},
   "outputs": [],
   "source": [
    "mpc_graphics = do_mpc.graphics.Graphics(experiment.mpc.data)"
   ]
  },
  {
   "cell_type": "code",
   "execution_count": null,
   "metadata": {},
   "outputs": [],
   "source": [
    "import matplotlib.pyplot as plt\n",
    "plt.ion() # interactive mode on\n",
    "from matplotlib import rcParams\n",
    "rcParams['text.usetex'] = False\n",
    "rcParams['axes.grid'] = True\n",
    "rcParams['lines.linewidth'] = 2.0\n",
    "rcParams['axes.labelsize'] = 'xx-large'\n",
    "rcParams['xtick.labelsize'] = 'xx-large'\n",
    "rcParams['ytick.labelsize'] = 'xx-large'\n",
    "\n",
    "# Include these parameters in order to have embedded animations without saving the gif file\n",
    "rcParams[\"animation.html\"] = \"jshtml\"\n",
    "rcParams['animation.embed_limit'] = 2**128"
   ]
  },
  {
   "cell_type": "code",
   "execution_count": null,
   "metadata": {},
   "outputs": [],
   "source": [
    "def differential_drive_robot(x, L, r):\n",
    "    x = x.flatten()\n",
    "    theta = x[2]\n",
    "    \n",
    "    length = 5\n",
    "    endx = x[0] + length * np.cos(theta)\n",
    "    endy = x[1] + length * np.sin(theta)\n",
    "    \n",
    "    # Get the x,y coordinates of the 2 bars for the given state x\n",
    "    orientation_x = np.array([\n",
    "        x[0],\n",
    "        endx\n",
    "    ])\n",
    "    \n",
    "    orientation_y = np.array([\n",
    "        x[1],\n",
    "        endy\n",
    "    ])\n",
    "    \n",
    "    \n",
    "    left_wheel = np.array([x[0]+L/2*np.cos(theta+np.pi/2),x[1]+L/2*np.sin(theta+np.pi/2)])\n",
    "    right_wheel = np.array([x[0]+L/2*np.cos(theta-np.pi/2),x[1]+L/2*np.sin(theta-np.pi/2)])\n",
    "\n",
    "    bar_x = np.array([\n",
    "        right_wheel[0],\n",
    "        left_wheel[0]        \n",
    "    ])\n",
    "    \n",
    "    bar_y = np.array([\n",
    "        right_wheel[1],\n",
    "        left_wheel[1]     \n",
    "    ])\n",
    "    \n",
    "    left_wheel_front = np.array([left_wheel[0]+r*np.cos(theta),left_wheel[1]+r*np.sin(theta)])\n",
    "    left_wheel_back = np.array([left_wheel[0]-r*np.cos(theta),left_wheel[1]-r*np.sin(theta)])\n",
    "    \n",
    "    left_wheel_x = np.array([\n",
    "        left_wheel_front[0],\n",
    "        left_wheel_back[0]        \n",
    "    ])\n",
    "    \n",
    "    left_wheel_y = np.array([\n",
    "        left_wheel_front[1],\n",
    "        left_wheel_back[1]     \n",
    "    ])\n",
    "    \n",
    "    right_wheel_front = np.array([right_wheel[0]+r*np.cos(theta),right_wheel[1]+r*np.sin(theta)])\n",
    "    right_wheel_back = np.array([right_wheel[0]-r*np.cos(theta),right_wheel[1]-r*np.sin(theta)])\n",
    "    \n",
    "    right_wheel_x = np.array([\n",
    "        right_wheel_front[0],\n",
    "        right_wheel_back[0]        \n",
    "    ])\n",
    "    \n",
    "    right_wheel_y = np.array([\n",
    "        right_wheel_front[1],\n",
    "        right_wheel_back[1]     \n",
    "    ])\n",
    "    \n",
    "    orientation = np.stack((orientation_x, orientation_y))\n",
    "    bar = np.stack((bar_x, bar_y))\n",
    "    left_wheel = np.stack((left_wheel_x,left_wheel_y))\n",
    "    right_wheel = np.stack((right_wheel_x,right_wheel_y))\n",
    "        \n",
    "    return orientation, bar, left_wheel, right_wheel"
   ]
  },
  {
   "cell_type": "code",
   "execution_count": null,
   "metadata": {},
   "outputs": [],
   "source": [
    "#help(do_mpc.controller.MPC.set_uncertainty_weights)"
   ]
  },
  {
   "cell_type": "code",
   "execution_count": null,
   "metadata": {},
   "outputs": [],
   "source": [
    "%%capture\n",
    "\n",
    "fig = plt.figure(figsize=(16,9))\n",
    "\n",
    "ax1 = plt.subplot2grid((5, 2), (0, 0), rowspan=5)\n",
    "ax2 = plt.subplot2grid((5, 2), (0, 1))\n",
    "ax3 = plt.subplot2grid((5, 2), (1, 1))\n",
    "ax4 = plt.subplot2grid((5, 2), (2, 1))\n",
    "ax5 = plt.subplot2grid((5, 2), (3, 1))\n",
    "ax6 = plt.subplot2grid((5, 2), (4, 1))\n",
    "\n",
    "ax2.set_ylabel('$\\omega_{left}$ [rad/s]')\n",
    "ax3.set_ylabel('$\\omega_{right}$ [rad/s]')\n",
    "ax4.set_ylabel('$v$ [m/s]')\n",
    "ax5.set_ylabel('$\\omega$ [rad/s]')\n",
    "ax6.set_ylabel('$distance$ [m]')\n",
    "\n",
    "# Axis on the right.\n",
    "for ax in [ax2, ax3, ax4, ax5, ax6]:\n",
    "    ax.yaxis.set_label_position(\"right\")\n",
    "    ax.yaxis.tick_right()\n",
    "    if ax != ax6:\n",
    "        ax.xaxis.set_ticklabels([])\n",
    "\n",
    "ax6.set_xlabel('time [s]')\n",
    "\n",
    "mpc_graphics.add_line(var_type='_u', var_name='u_l', axis=ax2)\n",
    "mpc_graphics.add_line(var_type='_u', var_name='u_r', axis=ax3)\n",
    "mpc_graphics.add_line(var_type='_aux', var_name='v', axis=ax4)\n",
    "mpc_graphics.add_line(var_type='_aux', var_name='w', axis=ax5)\n",
    "#mpc_graphics.add_line(var_type='_aux', var_name='position_norm', axis=ax6)\n",
    "mpc_graphics.add_line(var_type='_aux', var_name='trajectory_error', axis=ax6)\n",
    "#mpc_graphics.add_line(var_type='_aux', var_name='squared_distance', axis=ax6)\n",
    "\n",
    "ax1.axhline(0,color='black')\n",
    "\n",
    "orientation_line = ax1.plot([],[], '-o', color = 'black',dashes = [6,2])\n",
    "bar_line = ax1.plot([],[], color = 'blue')\n",
    "left_wheel_line = ax1.plot([],[],'blue')\n",
    "right_wheel_line = ax1.plot([],[],'blue')\n",
    "\n",
    "ax1.set_xlim(-5,5)\n",
    "ax1.set_ylim(-5,5)\n",
    "#ax1.set_axis_off()\n",
    "\n",
    "ax1.set_aspect('equal')\n",
    "\n",
    "fig.align_ylabels()\n",
    "fig.tight_layout()"
   ]
  },
  {
   "cell_type": "code",
   "execution_count": null,
   "metadata": {},
   "outputs": [],
   "source": [
    "u0 = experiment.mpc.make_step(experiment.simulator.x0)"
   ]
  },
  {
   "cell_type": "code",
   "execution_count": null,
   "metadata": {},
   "outputs": [],
   "source": [
    "x0_np = experiment.simulator.x0.cat.full()\n",
    "orientation, bar, left_wheel, right_wheel = differential_drive_robot(x0_np, experiment.true_axle_length, experiment.true_wheel_radius)\n",
    "orientation_line[0].set_data(orientation[0], orientation[1])\n",
    "bar_line[0].set_data(bar[0], bar[1])\n",
    "right_wheel_line[0].set_data(right_wheel[0], right_wheel[1])\n",
    "left_wheel_line[0].set_data(left_wheel[0], left_wheel[1])\n",
    "\n",
    "mpc_graphics.plot_predictions()\n",
    "mpc_graphics.reset_axes()\n",
    "\n",
    "fig"
   ]
  },
  {
   "cell_type": "code",
   "execution_count": null,
   "metadata": {},
   "outputs": [],
   "source": [
    "#%%capture\n",
    "# Quickly reset the history of the MPC data object.\n",
    "experiment.mpc.reset_history()\n",
    "\n",
    "n_steps = 700\n",
    "x0 = experiment.simulator.x0\n",
    "for k in range(n_steps):\n",
    "    u0 = experiment.mpc.make_step(x0)\n",
    "    y_next = experiment.simulator.make_step(u0)\n",
    "    x0 = experiment.estimator.make_step(y_next)"
   ]
  },
  {
   "cell_type": "code",
   "execution_count": null,
   "metadata": {},
   "outputs": [],
   "source": [
    "x_arr = experiment.mpc.data['_x']\n",
    "x_arr"
   ]
  },
  {
   "cell_type": "code",
   "execution_count": null,
   "metadata": {},
   "outputs": [],
   "source": [
    "from matplotlib.animation import FuncAnimation, FFMpegWriter, ImageMagickWriter\n",
    "\n",
    "# The function describing the gif:\n",
    "def update(t_ind):\n",
    "    orientation, bar, left_wheel, right_wheel = differential_drive_robot(x_arr[t_ind],experiment.true_axle_length,experiment.true_wheel_radius)\n",
    "    orientation_line[0].set_data(orientation[0],orientation[1])\n",
    "    bar_line[0].set_data(bar[0],bar[1])\n",
    "    right_wheel_line[0].set_data(right_wheel[0],right_wheel[1])\n",
    "    left_wheel_line[0].set_data(left_wheel[0],left_wheel[1])\n",
    "    mpc_graphics.plot_results(t_ind)\n",
    "    mpc_graphics.plot_predictions(t_ind)\n",
    "    mpc_graphics.reset_axes()\n",
    "\n",
    "\n",
    "anim = FuncAnimation(fig, update, frames=n_steps, repeat=False)"
   ]
  },
  {
   "cell_type": "code",
   "execution_count": null,
   "metadata": {},
   "outputs": [],
   "source": [
    "%%capture\n",
    "\n",
    "fig2 = plt.figure(figsize=(16,9))\n",
    "ax = fig2.add_subplot()\n",
    "ax.set_aspect('equal')\n",
    "ax.set_xlim(-5,5)\n",
    "ax.set_ylim(-5,5)\n",
    "ax.set_title('Followed trajectory',fontsize = 16)\n",
    "\n",
    "ax.plot(x_arr[:,[0]],x_arr[:,[1]])"
   ]
  },
  {
   "cell_type": "code",
   "execution_count": null,
   "metadata": {},
   "outputs": [],
   "source": [
    "fig2"
   ]
  },
  {
   "cell_type": "code",
   "execution_count": null,
   "metadata": {},
   "outputs": [],
   "source": [
    "# Show the animation as embedded without saving it as a gif\n",
    "anim"
   ]
  },
  {
   "cell_type": "code",
   "execution_count": null,
   "metadata": {},
   "outputs": [],
   "source": [
    "# Save the animation as a gif\n",
    "gif_writer = ImageMagickWriter(fps=10)\n",
    "anim.save(graphic_output_file, writer=gif_writer)"
   ]
  },
  {
   "cell_type": "code",
   "execution_count": null,
   "metadata": {},
   "outputs": [],
   "source": [
    "!identify -list resource"
   ]
  },
  {
   "cell_type": "code",
   "execution_count": null,
   "metadata": {},
   "outputs": [],
   "source": [
    "print(x_arr[n_steps-1])"
   ]
  },
  {
   "cell_type": "code",
   "execution_count": null,
   "metadata": {},
   "outputs": [],
   "source": [
    "from IPython.core.interactiveshell import InteractiveShell\n",
    "InteractiveShell.ast_node_interactivity = \"all\"\n",
    "from IPython import display"
   ]
  },
  {
   "cell_type": "code",
   "execution_count": null,
   "metadata": {},
   "outputs": [],
   "source": [
    "from pathlib import Path\n",
    "gifPath = Path(graphic_output_file)\n",
    "# Display GIF in Jupyter, CoLab, IPython\n",
    "with open(gifPath,'rb') as f:\n",
    "    display.Image(data=f.read(), format='png')"
   ]
  },
  {
   "cell_type": "code",
   "execution_count": null,
   "metadata": {},
   "outputs": [],
   "source": [
    "#if there are issues in making the gif due to memory limits in ImageMagick then do the following steps:\n",
    "# -- if not present, install a text editor like nano\n",
    "#1- open terminal : sudo nano /etc/ImageMagick-6/policy.xml\n",
    "#2- Enter your password\n",
    "#3- You should be in nano file, change the line with \"ressource memory\" to\n",
    "#4- <policy domain=\"resource\" name=\"memory\" value=\"5000MiB\"/>\n",
    "#5- Save the nano file : ctrl + o and enter to confirm\n",
    "#6- Up the memory if necessary"
   ]
  }
 ],
 "metadata": {
  "kernelspec": {
   "display_name": "Python 3",
   "language": "python",
   "name": "python3"
  },
  "language_info": {
   "codemirror_mode": {
    "name": "ipython",
    "version": 3
   },
   "file_extension": ".py",
   "mimetype": "text/x-python",
   "name": "python",
   "nbconvert_exporter": "python",
   "pygments_lexer": "ipython3",
   "version": "3.6.13"
  }
 },
 "nbformat": 4,
 "nbformat_minor": 4
}

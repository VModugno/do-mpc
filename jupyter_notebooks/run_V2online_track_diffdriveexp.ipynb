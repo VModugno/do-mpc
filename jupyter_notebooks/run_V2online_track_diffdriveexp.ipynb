{
 "cells": [
  {
   "cell_type": "code",
   "execution_count": 1,
   "metadata": {},
   "outputs": [
    {
     "name": "stdout",
     "output_type": "stream",
     "text": [
      "WARNING:tensorflow:\n",
      "The TensorFlow contrib module will not be included in TensorFlow 2.0.\n",
      "For more information, please see:\n",
      "  * https://github.com/tensorflow/community/blob/master/rfcs/20180907-contrib-sunset.md\n",
      "  * https://github.com/tensorflow/addons\n",
      "  * https://github.com/tensorflow/io (for I/O related ops)\n",
      "If you depend on functionality not listed there, please file an issue.\n",
      "\n"
     ]
    },
    {
     "name": "stderr",
     "output_type": "stream",
     "text": [
      "/root/miniconda3/envs/dompc_dev/lib/python3.6/site-packages/stable_baselines/__init__.py:33: UserWarning: stable-baselines is in maintenance mode, please use [Stable-Baselines3 (SB3)](https://github.com/DLR-RM/stable-baselines3) for an up-to-date version. You can find a [migration guide](https://stable-baselines3.readthedocs.io/en/master/guide/migration.html) in SB3 documentation.\n",
      "  \"stable-baselines is in maintenance mode, please use [Stable-Baselines3 (SB3)](https://github.com/DLR-RM/stable-baselines3) for an up-to-date version. You can find a [migration guide](https://stable-baselines3.readthedocs.io/en/master/guide/migration.html) in SB3 documentation.\"\n"
     ]
    }
   ],
   "source": [
    "import numpy as np\n",
    "import do_mpc\n",
    "from DifferentialDriveExperiment import DifferentialDriveExperiment\n",
    "from differential_drive_env_v2 import DifferentialDriveEnvV2\n",
    "from datetime import datetime\n",
    "import baseline_integration as bi"
   ]
  },
  {
   "cell_type": "code",
   "execution_count": 2,
   "metadata": {},
   "outputs": [
    {
     "name": "stdout",
     "output_type": "stream",
     "text": [
      "LOAD AND RUN init_pose before setup [0.3, 0.3, 3.141592653589793]\n",
      "Loading a model without an environment, this model cannot be trained until it has a valid environment.\n",
      "WARNING:tensorflow:From /root/miniconda3/envs/dompc_dev/lib/python3.6/site-packages/stable_baselines/common/tf_util.py:191: The name tf.ConfigProto is deprecated. Please use tf.compat.v1.ConfigProto instead.\n",
      "\n",
      "WARNING:tensorflow:From /root/miniconda3/envs/dompc_dev/lib/python3.6/site-packages/stable_baselines/common/tf_util.py:200: The name tf.Session is deprecated. Please use tf.compat.v1.Session instead.\n",
      "\n",
      "WARNING:tensorflow:From /root/miniconda3/envs/dompc_dev/lib/python3.6/site-packages/stable_baselines/common/policies.py:116: The name tf.variable_scope is deprecated. Please use tf.compat.v1.variable_scope instead.\n",
      "\n",
      "WARNING:tensorflow:From /root/miniconda3/envs/dompc_dev/lib/python3.6/site-packages/stable_baselines/common/input.py:25: The name tf.placeholder is deprecated. Please use tf.compat.v1.placeholder instead.\n",
      "\n",
      "WARNING:tensorflow:From /root/miniconda3/envs/dompc_dev/lib/python3.6/site-packages/stable_baselines/common/policies.py:561: flatten (from tensorflow.python.layers.core) is deprecated and will be removed in a future version.\n",
      "Instructions for updating:\n",
      "Use keras.layers.flatten instead.\n",
      "WARNING:tensorflow:From /root/miniconda3/envs/dompc_dev/lib/python3.6/site-packages/tensorflow_core/python/layers/core.py:332: Layer.apply (from tensorflow.python.keras.engine.base_layer) is deprecated and will be removed in a future version.\n",
      "Instructions for updating:\n",
      "Please use `layer.__call__` method instead.\n",
      "WARNING:tensorflow:From /root/miniconda3/envs/dompc_dev/lib/python3.6/site-packages/stable_baselines/common/tf_layers.py:123: The name tf.get_variable is deprecated. Please use tf.compat.v1.get_variable instead.\n",
      "\n",
      "WARNING:tensorflow:From /root/miniconda3/envs/dompc_dev/lib/python3.6/site-packages/stable_baselines/common/distributions.py:418: The name tf.random_normal is deprecated. Please use tf.random.normal instead.\n",
      "\n",
      "WARNING:tensorflow:From /root/miniconda3/envs/dompc_dev/lib/python3.6/site-packages/stable_baselines/ppo2/ppo2.py:190: The name tf.summary.scalar is deprecated. Please use tf.compat.v1.summary.scalar instead.\n",
      "\n",
      "WARNING:tensorflow:From /root/miniconda3/envs/dompc_dev/lib/python3.6/site-packages/stable_baselines/ppo2/ppo2.py:198: The name tf.trainable_variables is deprecated. Please use tf.compat.v1.trainable_variables instead.\n",
      "\n",
      "WARNING:tensorflow:From /root/miniconda3/envs/dompc_dev/lib/python3.6/site-packages/tensorflow_core/python/ops/math_grad.py:1424: where (from tensorflow.python.ops.array_ops) is deprecated and will be removed in a future version.\n",
      "Instructions for updating:\n",
      "Use tf.where in 2.0, which has the same broadcast rule as np.where\n",
      "WARNING:tensorflow:From /root/miniconda3/envs/dompc_dev/lib/python3.6/site-packages/stable_baselines/ppo2/ppo2.py:206: The name tf.train.AdamOptimizer is deprecated. Please use tf.compat.v1.train.AdamOptimizer instead.\n",
      "\n",
      "WARNING:tensorflow:From /root/miniconda3/envs/dompc_dev/lib/python3.6/site-packages/stable_baselines/ppo2/ppo2.py:240: The name tf.global_variables_initializer is deprecated. Please use tf.compat.v1.global_variables_initializer instead.\n",
      "\n",
      "WARNING:tensorflow:From /root/miniconda3/envs/dompc_dev/lib/python3.6/site-packages/stable_baselines/ppo2/ppo2.py:242: The name tf.summary.merge_all is deprecated. Please use tf.compat.v1.summary.merge_all instead.\n",
      "\n",
      "LOAD AND RUN init_pose before run model [0.3, 0.3, 3.141592653589793]\n",
      "INITPOSE_after env created None\n",
      "init_pose param[0.3, 0.3, 3.141592653589793]\n",
      "INITPOSE_after env reset [0.3, 0.3, 3.141592653589793]\n",
      "OBS after resest [0.3        0.3        3.14159265]\n",
      "Run model iteration i 0 state [0.3        0.3        3.14159265] pred_action [1. 1.]\n",
      "Run model iteration i 1 state [0.29675033 0.29845092 1.14159265] pred_action [1. 1.]\n",
      "Run model iteration i 2 state [ 0.29350067  0.29690183 -0.85840735] pred_action [1. 1.]\n",
      "Run model iteration i 3 state [ 0.290251    0.29535275 -0.85840735] pred_action [1. 1.]\n",
      "Run model iteration i 4 state [ 0.28700133  0.29380366 -0.85840735] pred_action [1. 1.]\n",
      "Run model iteration i 5 state [ 0.28375166  0.29225458 -0.85840735] pred_action [1. 1.]\n",
      "Run model iteration i 6 state [ 0.280502    0.29070549 -0.85840735] pred_action [1. 1.]\n",
      "Run model iteration i 7 state [ 0.27725233  0.28915641 -0.85840735] pred_action [1. 1.]\n",
      "Run model iteration i 8 state [ 0.27400266  0.28760732 -0.85840735] pred_action [1. 1.]\n",
      "Run model iteration i 9 state [ 0.27075299  0.28605824 -0.85840735] pred_action [1. 1.]\n",
      "Run model iteration i 10 state [ 0.26750333  0.28450916 -0.85840735] pred_action [1. 1.]\n",
      "Run model iteration i 11 state [ 0.26425366  0.28296007 -0.85840735] pred_action [1. 1.]\n",
      "Run model iteration i 12 state [ 0.26100399  0.28141099 -0.85840735] pred_action [1. 1.]\n",
      "Run model iteration i 13 state [ 0.25775433  0.2798619  -0.85840735] pred_action [1. 1.]\n",
      "Run model iteration i 14 state [ 0.25450466  0.27831282 -0.85840735] pred_action [1. 1.]\n",
      "Run model iteration i 15 state [ 0.25125499  0.27676373 -0.85840735] pred_action [1. 1.]\n",
      "Run model iteration i 16 state [ 0.24800532  0.27521465 -0.85840735] pred_action [1. 1.]\n",
      "Run model iteration i 17 state [ 0.24475566  0.27366557 -0.85840735] pred_action [1. 1.]\n",
      "Run model iteration i 18 state [ 0.24150599  0.27211648 -0.85840735] pred_action [1. 1.]\n",
      "Run model iteration i 19 state [ 0.23825632  0.2705674  -0.85840735] pred_action [1. 1.]\n",
      "Run model iteration i 20 state [ 0.23500665  0.26901831 -0.85840735] pred_action [1. 1.]\n",
      "Run model iteration i 21 state [ 0.23175699  0.26746923 -0.85840735] pred_action [1. 1.]\n",
      "Run model iteration i 22 state [ 0.22850732  0.26592014 -0.85840735] pred_action [1. 1.]\n",
      "Run model iteration i 23 state [ 0.22525765  0.26437106 -0.85840735] pred_action [1. 1.]\n",
      "Run model iteration i 24 state [ 0.22200798  0.26282197 -0.85840735] pred_action [1. 1.]\n",
      "Run model iteration i 25 state [ 0.21875832  0.26127289 -0.85840735] pred_action [1. 1.]\n",
      "Run model iteration i 26 state [ 0.21550865  0.25972381 -0.85840735] pred_action [1. 1.]\n",
      "Run model iteration i 27 state [ 0.21225898  0.25817472 -0.85840735] pred_action [1. 1.]\n",
      "Run model iteration i 28 state [ 0.20900932  0.25662564 -0.85840735] pred_action [1. 1.]\n",
      "Run model iteration i 29 state [ 0.20575965  0.25507655 -0.85840735] pred_action [1. 1.]\n",
      "Run model iteration i 30 state [ 0.20250998  0.25352747 -0.85840735] pred_action [1. 1.]\n",
      "Run model iteration i 31 state [ 0.19926031  0.25197838 -0.85840735] pred_action [1. 1.]\n",
      "Run model iteration i 32 state [ 0.19601065  0.2504293  -0.85840735] pred_action [1. 1.]\n",
      "Run model iteration i 33 state [ 0.19276098  0.24888022 -0.85840735] pred_action [1. 1.]\n",
      "Run model iteration i 34 state [ 0.18951131  0.24733113 -0.85840735] pred_action [1. 1.]\n",
      "Run model iteration i 35 state [ 0.18626164  0.24578205 -0.85840735] pred_action [1. 1.]\n",
      "Run model iteration i 36 state [ 0.18301198  0.24423296 -0.85840735] pred_action [1. 1.]\n",
      "Run model iteration i 37 state [ 0.17976231  0.24268388 -0.85840735] pred_action [1. 1.]\n",
      "Run model iteration i 38 state [ 0.17651264  0.24113479 -0.85840735] pred_action [1. 1.]\n",
      "Run model iteration i 39 state [ 0.17326298  0.23958571 -0.85840735] pred_action [1. 1.]\n",
      "Run model iteration i 40 state [ 0.17001331  0.23803662 -0.85840735] pred_action [1. 1.]\n",
      "Run model iteration i 41 state [ 0.16676364  0.23648754 -0.85840735] pred_action [1. 1.]\n",
      "Run model iteration i 42 state [ 0.16351397  0.23493846 -0.85840735] pred_action [1. 1.]\n",
      "Run model iteration i 43 state [ 0.16026431  0.23338937 -0.85840735] pred_action [1. 1.]\n",
      "Run model iteration i 44 state [ 0.15701464  0.23184029 -0.85840735] pred_action [1. 1.]\n",
      "Run model iteration i 45 state [ 0.15376497  0.2302912  -0.85840735] pred_action [1. 1.]\n",
      "Run model iteration i 46 state [ 0.1505153   0.22874212 -0.85840735] pred_action [1. 1.]\n",
      "Run model iteration i 47 state [ 0.14726564  0.22719303 -0.85840735] pred_action [1. 1.]\n",
      "Run model iteration i 48 state [ 0.14401597  0.22564395 -0.85840735] pred_action [1. 1.]\n",
      "Run model iteration i 49 state [ 0.1407663   0.22409487 -0.85840735] pred_action [1. 1.]\n",
      "Ho 51 obss e 50 actions\n",
      "X \n",
      " [array([0.3       , 0.3       , 3.14159265]), array([0.29675033, 0.29845092, 1.14159265]), array([ 0.29350067,  0.29690183, -0.85840735]), array([ 0.290251  ,  0.29535275, -0.85840735]), array([ 0.28700133,  0.29380366, -0.85840735]), array([ 0.28375166,  0.29225458, -0.85840735]), array([ 0.280502  ,  0.29070549, -0.85840735]), array([ 0.27725233,  0.28915641, -0.85840735]), array([ 0.27400266,  0.28760732, -0.85840735]), array([ 0.27075299,  0.28605824, -0.85840735]), array([ 0.26750333,  0.28450916, -0.85840735]), array([ 0.26425366,  0.28296007, -0.85840735]), array([ 0.26100399,  0.28141099, -0.85840735]), array([ 0.25775433,  0.2798619 , -0.85840735]), array([ 0.25450466,  0.27831282, -0.85840735]), array([ 0.25125499,  0.27676373, -0.85840735]), array([ 0.24800532,  0.27521465, -0.85840735]), array([ 0.24475566,  0.27366557, -0.85840735]), array([ 0.24150599,  0.27211648, -0.85840735]), array([ 0.23825632,  0.2705674 , -0.85840735]), array([ 0.23500665,  0.26901831, -0.85840735]), array([ 0.23175699,  0.26746923, -0.85840735]), array([ 0.22850732,  0.26592014, -0.85840735]), array([ 0.22525765,  0.26437106, -0.85840735]), array([ 0.22200798,  0.26282197, -0.85840735]), array([ 0.21875832,  0.26127289, -0.85840735]), array([ 0.21550865,  0.25972381, -0.85840735]), array([ 0.21225898,  0.25817472, -0.85840735]), array([ 0.20900932,  0.25662564, -0.85840735]), array([ 0.20575965,  0.25507655, -0.85840735]), array([ 0.20250998,  0.25352747, -0.85840735]), array([ 0.19926031,  0.25197838, -0.85840735]), array([ 0.19601065,  0.2504293 , -0.85840735]), array([ 0.19276098,  0.24888022, -0.85840735]), array([ 0.18951131,  0.24733113, -0.85840735]), array([ 0.18626164,  0.24578205, -0.85840735]), array([ 0.18301198,  0.24423296, -0.85840735]), array([ 0.17976231,  0.24268388, -0.85840735]), array([ 0.17651264,  0.24113479, -0.85840735]), array([ 0.17326298,  0.23958571, -0.85840735]), array([ 0.17001331,  0.23803662, -0.85840735]), array([ 0.16676364,  0.23648754, -0.85840735]), array([ 0.16351397,  0.23493846, -0.85840735]), array([ 0.16026431,  0.23338937, -0.85840735]), array([ 0.15701464,  0.23184029, -0.85840735]), array([ 0.15376497,  0.2302912 , -0.85840735]), array([ 0.1505153 ,  0.22874212, -0.85840735]), array([ 0.14726564,  0.22719303, -0.85840735]), array([ 0.14401597,  0.22564395, -0.85840735]), array([ 0.1407663 ,  0.22409487, -0.85840735]), array([ 0.13751663,  0.22254578, -0.85840735])]\n",
      "Commands \n",
      " [array([1., 1.], dtype=float32), array([1., 1.], dtype=float32), array([1., 1.], dtype=float32), array([1., 1.], dtype=float32), array([1., 1.], dtype=float32), array([1., 1.], dtype=float32), array([1., 1.], dtype=float32), array([1., 1.], dtype=float32), array([1., 1.], dtype=float32), array([1., 1.], dtype=float32), array([1., 1.], dtype=float32), array([1., 1.], dtype=float32), array([1., 1.], dtype=float32), array([1., 1.], dtype=float32), array([1., 1.], dtype=float32), array([1., 1.], dtype=float32), array([1., 1.], dtype=float32), array([1., 1.], dtype=float32), array([1., 1.], dtype=float32), array([1., 1.], dtype=float32), array([1., 1.], dtype=float32), array([1., 1.], dtype=float32), array([1., 1.], dtype=float32), array([1., 1.], dtype=float32), array([1., 1.], dtype=float32), array([1., 1.], dtype=float32), array([1., 1.], dtype=float32), array([1., 1.], dtype=float32), array([1., 1.], dtype=float32), array([1., 1.], dtype=float32), array([1., 1.], dtype=float32), array([1., 1.], dtype=float32), array([1., 1.], dtype=float32), array([1., 1.], dtype=float32), array([1., 1.], dtype=float32), array([1., 1.], dtype=float32), array([1., 1.], dtype=float32), array([1., 1.], dtype=float32), array([1., 1.], dtype=float32), array([1., 1.], dtype=float32), array([1., 1.], dtype=float32), array([1., 1.], dtype=float32), array([1., 1.], dtype=float32), array([1., 1.], dtype=float32), array([1., 1.], dtype=float32), array([1., 1.], dtype=float32), array([1., 1.], dtype=float32), array([1., 1.], dtype=float32), array([1., 1.], dtype=float32), array([1., 1.], dtype=float32)]\n",
      "Starting point: x:0.3, y:0.3 -PURPLE-\n",
      "End point: x:0.13751663485204707, y:0.22254578093998362 -GREEN-\n"
     ]
    },
    {
     "data": {
      "image/png": "[encoded data removed]",
      "text/plain": [
       "<Figure size 1080x1080 with 4 Axes>"
      ]
     },
     "metadata": {
      "needs_background": "light"
     },
     "output_type": "display_data"
    }
   ],
   "source": [
    "ppo2_model_name = \"ppo2_gaussian_012\"\n",
    "env_class_name = DifferentialDriveEnvV2\n",
    "init_robot_pose = {'x': 0.3, 'y': 0.3, 'theta': np.pi}\n",
    "obss, actions = bi.load_and_run_model(ppo2_model_name,50,0.50,0.12,env_class_name,list(init_robot_pose.values()))\n",
    "print(\"Ho {} obss e {} actions\".format(len(obss),len(actions)))\n",
    "print(\"X \\n {}\".format(obss))\n",
    "print(\"Commands \\n {}\".format(actions))\n",
    "bi.show_rl_trajectory(obss,actions,0.50,0.12)"
   ]
  },
  {
   "cell_type": "code",
   "execution_count": null,
   "metadata": {},
   "outputs": [],
   "source": [
    "experiment = DifferentialDriveExperiment(axle_lengths_dict={'values':[0.5]}, wheel_radii_dict={'values':[0.12]},\n",
    "                                         tracking_trajectories=[{'L':0.5,'r':0.12,'policy_name':ppo2_model_name,'env_class_name':env_class_name}\n",
    "                                                               ])\n",
    "print(\"Trajectory Mode {}\".format(experiment.tracking_trajectory_mode))\n",
    "print(\"Scenario track {}\".format(experiment.scenario_based_trajectory_tracking))\n",
    "experiment.setup_experiment(init_robot_pose)\n",
    "date_prefix = datetime.today().strftime('%Y-%m-%d')\n",
    "name_prefix = 'online_single_trackV2_radius'\n",
    "output_file_prefix = date_prefix +'_'+name_prefix\n",
    "graphic_output_file = output_file_prefix+'.gif'\n",
    "trajectory_info_log_file = output_file_prefix+'.yaml'\n",
    "print(\"Those experiment will be saved in {} gif and its trajectory in {}\".format(graphic_output_file,trajectory_info_log_file))"
   ]
  },
  {
   "cell_type": "code",
   "execution_count": null,
   "metadata": {},
   "outputs": [],
   "source": [
    "mpc_graphics = do_mpc.graphics.Graphics(experiment.mpc.data)"
   ]
  },
  {
   "cell_type": "code",
   "execution_count": null,
   "metadata": {},
   "outputs": [],
   "source": [
    "import matplotlib.pyplot as plt\n",
    "plt.ion() # interactive mode on\n",
    "from matplotlib import rcParams\n",
    "rcParams['text.usetex'] = False\n",
    "rcParams['axes.grid'] = True\n",
    "rcParams['lines.linewidth'] = 2.0\n",
    "rcParams['axes.labelsize'] = 'xx-large'\n",
    "rcParams['xtick.labelsize'] = 'xx-large'\n",
    "rcParams['ytick.labelsize'] = 'xx-large'\n",
    "\n",
    "# Include these parameters in order to have embedded animations without saving the gif file\n",
    "rcParams[\"animation.html\"] = \"jshtml\"\n",
    "rcParams['animation.embed_limit'] = 2**128"
   ]
  },
  {
   "cell_type": "code",
   "execution_count": null,
   "metadata": {},
   "outputs": [],
   "source": [
    "def differential_drive_robot(x, L, r):\n",
    "    x = x.flatten()\n",
    "    theta = x[2]\n",
    "    \n",
    "    length = 5\n",
    "    endx = x[0] + length * np.cos(theta)\n",
    "    endy = x[1] + length * np.sin(theta)\n",
    "    \n",
    "    # Get the x,y coordinates of the 2 bars for the given state x\n",
    "    orientation_x = np.array([\n",
    "        x[0],\n",
    "        endx\n",
    "    ])\n",
    "    \n",
    "    orientation_y = np.array([\n",
    "        x[1],\n",
    "        endy\n",
    "    ])\n",
    "    \n",
    "    \n",
    "    left_wheel = np.array([x[0]+L/2*np.cos(theta+np.pi/2),x[1]+L/2*np.sin(theta+np.pi/2)])\n",
    "    right_wheel = np.array([x[0]+L/2*np.cos(theta-np.pi/2),x[1]+L/2*np.sin(theta-np.pi/2)])\n",
    "\n",
    "    bar_x = np.array([\n",
    "        right_wheel[0],\n",
    "        left_wheel[0]        \n",
    "    ])\n",
    "    \n",
    "    bar_y = np.array([\n",
    "        right_wheel[1],\n",
    "        left_wheel[1]     \n",
    "    ])\n",
    "    \n",
    "    left_wheel_front = np.array([left_wheel[0]+r*np.cos(theta),left_wheel[1]+r*np.sin(theta)])\n",
    "    left_wheel_back = np.array([left_wheel[0]-r*np.cos(theta),left_wheel[1]-r*np.sin(theta)])\n",
    "    \n",
    "    left_wheel_x = np.array([\n",
    "        left_wheel_front[0],\n",
    "        left_wheel_back[0]        \n",
    "    ])\n",
    "    \n",
    "    left_wheel_y = np.array([\n",
    "        left_wheel_front[1],\n",
    "        left_wheel_back[1]     \n",
    "    ])\n",
    "    \n",
    "    right_wheel_front = np.array([right_wheel[0]+r*np.cos(theta),right_wheel[1]+r*np.sin(theta)])\n",
    "    right_wheel_back = np.array([right_wheel[0]-r*np.cos(theta),right_wheel[1]-r*np.sin(theta)])\n",
    "    \n",
    "    right_wheel_x = np.array([\n",
    "        right_wheel_front[0],\n",
    "        right_wheel_back[0]        \n",
    "    ])\n",
    "    \n",
    "    right_wheel_y = np.array([\n",
    "        right_wheel_front[1],\n",
    "        right_wheel_back[1]     \n",
    "    ])\n",
    "    \n",
    "    orientation = np.stack((orientation_x, orientation_y))\n",
    "    bar = np.stack((bar_x, bar_y))\n",
    "    left_wheel = np.stack((left_wheel_x,left_wheel_y))\n",
    "    right_wheel = np.stack((right_wheel_x,right_wheel_y))\n",
    "        \n",
    "    return orientation, bar, left_wheel, right_wheel"
   ]
  },
  {
   "cell_type": "code",
   "execution_count": null,
   "metadata": {},
   "outputs": [],
   "source": [
    "#help(do_mpc.controller.MPC.set_uncertainty_weights)"
   ]
  },
  {
   "cell_type": "code",
   "execution_count": null,
   "metadata": {},
   "outputs": [],
   "source": [
    "%%capture\n",
    "\n",
    "fig = plt.figure(figsize=(16,9))\n",
    "\n",
    "ax1 = plt.subplot2grid((5, 2), (0, 0), rowspan=5)\n",
    "ax2 = plt.subplot2grid((5, 2), (0, 1))\n",
    "ax3 = plt.subplot2grid((5, 2), (1, 1))\n",
    "ax4 = plt.subplot2grid((5, 2), (2, 1))\n",
    "ax5 = plt.subplot2grid((5, 2), (3, 1))\n",
    "ax6 = plt.subplot2grid((5, 2), (4, 1))\n",
    "\n",
    "ax2.set_ylabel('$\\omega_{left}$ [rad/s]')\n",
    "ax3.set_ylabel('$\\omega_{right}$ [rad/s]')\n",
    "ax4.set_ylabel('$v$ [m/s]')\n",
    "ax5.set_ylabel('$\\omega$ [rad/s]')\n",
    "ax6.set_ylabel('$distance$ [m]')\n",
    "\n",
    "# Axis on the right.\n",
    "for ax in [ax2, ax3, ax4, ax5, ax6]:\n",
    "    ax.yaxis.set_label_position(\"right\")\n",
    "    ax.yaxis.tick_right()\n",
    "    if ax != ax6:\n",
    "        ax.xaxis.set_ticklabels([])\n",
    "\n",
    "ax6.set_xlabel('time [s]')\n",
    "\n",
    "mpc_graphics.add_line(var_type='_u', var_name='u_l', axis=ax2)\n",
    "mpc_graphics.add_line(var_type='_u', var_name='u_r', axis=ax3)\n",
    "mpc_graphics.add_line(var_type='_aux', var_name='v', axis=ax4)\n",
    "mpc_graphics.add_line(var_type='_aux', var_name='w', axis=ax5)\n",
    "#mpc_graphics.add_line(var_type='_aux', var_name='position_norm', axis=ax6)\n",
    "mpc_graphics.add_line(var_type='_aux', var_name='trajectory_error', axis=ax6)\n",
    "#mpc_graphics.add_line(var_type='_aux', var_name='squared_distance', axis=ax6)\n",
    "\n",
    "ax1.axhline(0,color='black')\n",
    "\n",
    "orientation_line = ax1.plot([],[], '-o', color = 'black',dashes = [6,2])\n",
    "bar_line = ax1.plot([],[], color = 'blue')\n",
    "left_wheel_line = ax1.plot([],[],'blue')\n",
    "right_wheel_line = ax1.plot([],[],'blue')\n",
    "\n",
    "ax1.set_xlim(-5,5)\n",
    "ax1.set_ylim(-5,5)\n",
    "#ax1.set_axis_off()\n",
    "\n",
    "ax1.set_aspect('equal')\n",
    "\n",
    "fig.align_ylabels()\n",
    "fig.tight_layout()"
   ]
  },
  {
   "cell_type": "code",
   "execution_count": null,
   "metadata": {},
   "outputs": [],
   "source": [
    "u0 = experiment.mpc.make_step(experiment.simulator.x0)"
   ]
  },
  {
   "cell_type": "code",
   "execution_count": null,
   "metadata": {},
   "outputs": [],
   "source": [
    "x0_np = experiment.simulator.x0.cat.full()\n",
    "orientation, bar, left_wheel, right_wheel = differential_drive_robot(x0_np, experiment.true_axle_length, experiment.true_wheel_radius)\n",
    "orientation_line[0].set_data(orientation[0], orientation[1])\n",
    "bar_line[0].set_data(bar[0], bar[1])\n",
    "right_wheel_line[0].set_data(right_wheel[0], right_wheel[1])\n",
    "left_wheel_line[0].set_data(left_wheel[0], left_wheel[1])\n",
    "\n",
    "mpc_graphics.plot_predictions()\n",
    "mpc_graphics.reset_axes()\n",
    "\n",
    "fig"
   ]
  },
  {
   "cell_type": "code",
   "execution_count": null,
   "metadata": {},
   "outputs": [],
   "source": [
    "%%capture\n",
    "# Quickly reset the history of the MPC data object.\n",
    "experiment.mpc.reset_history()\n",
    "n_steps = 200\n",
    "x0 = experiment.simulator.x0\n",
    "for k in range(n_steps):\n",
    "    print(\"!!!!!!!!!!!!!!!!!!!!!!!!!!!!NUM STEP: {} of {}\".format(k,n_steps))\n",
    "    u0 = experiment.mpc.make_step(x0)\n",
    "    y_next = experiment.simulator.make_step(u0)\n",
    "    x0 = experiment.estimator.make_step(y_next)"
   ]
  },
  {
   "cell_type": "code",
   "execution_count": null,
   "metadata": {},
   "outputs": [],
   "source": [
    "x_arr = experiment.mpc.data['_x']\n",
    "x_arr"
   ]
  },
  {
   "cell_type": "code",
   "execution_count": null,
   "metadata": {},
   "outputs": [],
   "source": [
    "u_arr =experiment.mpc.data['_u']\n",
    "u_arr"
   ]
  },
  {
   "cell_type": "code",
   "execution_count": null,
   "metadata": {},
   "outputs": [],
   "source": [
    "from matplotlib.animation import FuncAnimation, FFMpegWriter, ImageMagickWriter\n",
    "\n",
    "# The function describing the gif:\n",
    "def update(t_ind):\n",
    "    orientation, bar, left_wheel, right_wheel = differential_drive_robot(x_arr[t_ind],experiment.true_axle_length,experiment.true_wheel_radius)\n",
    "    orientation_line[0].set_data(orientation[0],orientation[1])\n",
    "    bar_line[0].set_data(bar[0],bar[1])\n",
    "    right_wheel_line[0].set_data(right_wheel[0],right_wheel[1])\n",
    "    left_wheel_line[0].set_data(left_wheel[0],left_wheel[1])\n",
    "    mpc_graphics.plot_results(t_ind)\n",
    "    mpc_graphics.plot_predictions(t_ind)\n",
    "    mpc_graphics.reset_axes()\n",
    "\n",
    "\n",
    "anim = FuncAnimation(fig, update, frames=n_steps, repeat=False)"
   ]
  },
  {
   "cell_type": "code",
   "execution_count": null,
   "metadata": {},
   "outputs": [],
   "source": [
    "%%capture\n",
    "\n",
    "fig2 = plt.figure(figsize=(16,9))\n",
    "ax = fig2.add_subplot()\n",
    "ax.set_aspect('equal')\n",
    "ax.set_xlim(-1,1)\n",
    "ax.set_ylim(-1,1)\n",
    "ax.set_title('Followed trajectory',fontsize = 16)\n",
    "\n",
    "ax.plot(x_arr[:,[0]],x_arr[:,[1]])"
   ]
  },
  {
   "cell_type": "code",
   "execution_count": null,
   "metadata": {},
   "outputs": [],
   "source": [
    "fig2"
   ]
  },
  {
   "cell_type": "code",
   "execution_count": null,
   "metadata": {},
   "outputs": [],
   "source": [
    "# Show the animation as embedded without saving it as a gif\n",
    "anim"
   ]
  },
  {
   "cell_type": "code",
   "execution_count": null,
   "metadata": {},
   "outputs": [],
   "source": [
    "print(\"Mode {}\".format(experiment.tracking_trajectory_mode))\n",
    "print(\"Scenario track {}\".format(experiment.scenario_based_trajectory_tracking))"
   ]
  },
  {
   "cell_type": "code",
   "execution_count": null,
   "metadata": {},
   "outputs": [],
   "source": [
    "# Save the animation as a gif\n",
    "gif_writer = ImageMagickWriter(fps=10)\n",
    "anim.save(graphic_output_file, writer=gif_writer)"
   ]
  },
  {
   "cell_type": "code",
   "execution_count": null,
   "metadata": {},
   "outputs": [],
   "source": [
    "!identify -list resource"
   ]
  },
  {
   "cell_type": "code",
   "execution_count": null,
   "metadata": {},
   "outputs": [],
   "source": [
    "print(x_arr[n_steps-1])"
   ]
  },
  {
   "cell_type": "code",
   "execution_count": null,
   "metadata": {},
   "outputs": [],
   "source": [
    "from IPython.core.interactiveshell import InteractiveShell\n",
    "InteractiveShell.ast_node_interactivity = \"all\"\n",
    "from IPython import display"
   ]
  },
  {
   "cell_type": "code",
   "execution_count": null,
   "metadata": {},
   "outputs": [],
   "source": [
    "from pathlib import Path\n",
    "gifPath = Path(graphic_output_file)\n",
    "# Display GIF in Jupyter, CoLab, IPython\n",
    "with open(gifPath,'rb') as f:\n",
    "    display.Image(data=f.read(), format='png')"
   ]
  },
  {
   "cell_type": "code",
   "execution_count": null,
   "metadata": {},
   "outputs": [],
   "source": [
    "#if there are issues in making the gif due to memory limits in ImageMagick then do the following steps:\n",
    "# -- if not present, install a text editor like nano\n",
    "#1- open terminal : sudo nano /etc/ImageMagick-6/policy.xml\n",
    "#2- Enter your password\n",
    "#3- You should be in nano file, change the line with \"ressource memory\" to\n",
    "#4- <policy domain=\"resource\" name=\"memory\" value=\"5000MiB\"/>\n",
    "#5- Save the nano file : ctrl + o and enter to confirm\n",
    "#6- Up the memory if necessary"
   ]
  }
 ],
 "metadata": {
  "kernelspec": {
   "display_name": "Python 3",
   "language": "python",
   "name": "python3"
  },
  "language_info": {
   "codemirror_mode": {
    "name": "ipython",
    "version": 3
   },
   "file_extension": ".py",
   "mimetype": "text/x-python",
   "name": "python",
   "nbconvert_exporter": "python",
   "pygments_lexer": "ipython3",
   "version": "3.6.13"
  }
 },
 "nbformat": 4,
 "nbformat_minor": 4
}

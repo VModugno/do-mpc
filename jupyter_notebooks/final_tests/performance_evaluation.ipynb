{
 "cells": [
  {
   "cell_type": "code",
   "execution_count": null,
   "id": "fb3d9e1e",
   "metadata": {},
   "outputs": [],
   "source": [
    "# YAMLS\n",
    "#\n",
    "# 2021-06-23_pure_mpc1_r015-true015_initpose_-0500piover2.yaml\n",
    "# 2021-06-23_pure_mpc3_r012-true015_initpose_-0500piover2.yaml\n",
    "#\n",
    "# 2021-06-23_pure_mpc2_r015-true015_initpose_0303pi.yaml\n",
    "# 2021-06-23_pure_mpc5_r012-true015_initpose_0303pi.yaml\n",
    "# \n",
    "# 2021-06-23_pure_mpc4_r025-true015_a02-true05_initpose_-0500piover2.yaml\n",
    "#\n",
    "# 2021-06-23_pure_mpc6_r025-true015_a02-true05_initpose_0303pi.yaml\n",
    "#\n",
    "# 2021-06-27_robust_mpc7_r012-015-017-true015_eqprob_initpose_-0500piover2.yaml\n",
    "# 2021-06-27_robust_mpc8_r012-015-017-true015_eqprob_initpose_0303pi.yaml\n",
    "# 2021-06-24_robust_mpc9_r012-016-017-true015_eqprob_initpose_-0500piover2\n",
    "# 2021-06-23_robust_mpc11_r012-020-025-true015_eqprob_initpose_-0500piover2.yaml\n",
    "# 2021-06-24_robust_mpc11bis_r014-020-025-true015_eqprob_initpose_-0500piover2.yaml\n",
    "#\n",
    "# 2021-06-24_robust_mpc13_r014-020-025-true015_0.6-0.2-0.2_initpose_-0500piover2.yaml\n",
    "# 2021-06-24_robust_mpc14_r012-020-025-true015_0.6-0.2-0.2_initpose_-0500piover2.yaml\n",
    "# 2021-06-24_robust_mpc15_r012-016-017-true015_0.1-0.75-0.15_initpose_-0500piover2.yaml\n",
    "# 2021-06-25_it1_online_multi_track_probs.yaml"
   ]
  },
  {
   "cell_type": "code",
   "execution_count": null,
   "id": "e006b3ee",
   "metadata": {},
   "outputs": [],
   "source": [
    "import yaml\n",
    "import numpy as np"
   ]
  },
  {
   "cell_type": "code",
   "execution_count": null,
   "id": "1741021c",
   "metadata": {},
   "outputs": [],
   "source": [
    "# pick one path for the yaml file\n",
    "yaml_path = './2021-06-24_robust_mpc14_r012-020-025-true015_0.6-0.2-0.2_initpose_-0500piover2.yaml'\n",
    "\n",
    "with open(yaml_path) as file:\n",
    "    parsed_yaml_file = yaml.load(file, Loader=yaml.FullLoader)\n",
    "\n",
    "input_seq = np.array(parsed_yaml_file['u'])\n",
    "X = parsed_yaml_file['x']\n",
    "final_x = parsed_yaml_file['final_x']\n",
    "X.append(final_x)\n",
    "X = np.array(X)\n",
    "\n",
    "rms = 0\n",
    "# Square root of the mean of the square of the errors\n",
    "for idx, state in enumerate(X):\n",
    "    error = state[0]**2 + state[1]**2\n",
    "    rms = rms + error\n",
    "rms = rms/X.shape[0]\n",
    "rms = np.sqrt(rms)\n",
    "\n",
    "control_effort = 0\n",
    "\n",
    "for idx, current_input in enumerate(input_seq):\n",
    "    control_effort = control_effort + current_input[0]**2 + current_input[1]**2\n",
    "    \n",
    "control_effort = control_effort/input_seq.shape[0]\n",
    "\n",
    "#rms, control_effort\n",
    "\n",
    "parsed_yaml_file['rms_error'] = float(rms)\n",
    "parsed_yaml_file['control_effort'] = float(control_effort)\n",
    "\n",
    "with open(yaml_path, 'w') as outfile:\n",
    "    yaml.dump(parsed_yaml_file, outfile)"
   ]
  }
 ],
 "metadata": {
  "kernelspec": {
   "display_name": "Python 3",
   "language": "python",
   "name": "python3"
  },
  "language_info": {
   "codemirror_mode": {
    "name": "ipython",
    "version": 3
   },
   "file_extension": ".py",
   "mimetype": "text/x-python",
   "name": "python",
   "nbconvert_exporter": "python",
   "pygments_lexer": "ipython3",
   "version": "3.6.13"
  }
 },
 "nbformat": 4,
 "nbformat_minor": 5
}

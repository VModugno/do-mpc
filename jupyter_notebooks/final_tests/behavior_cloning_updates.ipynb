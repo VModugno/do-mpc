{
 "cells": [
  {
   "cell_type": "code",
   "execution_count": null,
   "id": "5a7e13a0",
   "metadata": {},
   "outputs": [],
   "source": [
    "# Must run this, the one installed is missing mpi\n",
    "!pip install stable-baselines[mpi]==2.10."
   ]
  },
  {
   "cell_type": "code",
   "execution_count": null,
   "id": "47f54df9",
   "metadata": {},
   "outputs": [],
   "source": [
    "import numpy as np\n",
    "\n",
    "from stable_baselines import PPO2\n",
    "from stable_baselines.common.cmd_util import make_vec_env\n",
    "from stable_baselines.common.policies import MlpPolicy\n",
    "\n",
    "from stable_baselines.common.vec_env import VecNormalize\n",
    "\n",
    "import sys; sys.path.insert(0,'..')\n",
    "from differential_drive_env_v2_wrappers import DifferentialDriveEnvV2Unscaled, RLAgentUnscalingWrapper\n",
    "import baseline_integration as bi\n",
    "\n",
    "from stable_baselines.gail import generate_expert_traj\n",
    "from stable_baselines.gail import ExpertDataset\n",
    "from stable_baselines.common.evaluation import evaluate_policy \n",
    "\n",
    "import yaml\n",
    "\n",
    "from datetime import datetime"
   ]
  },
  {
   "cell_type": "code",
   "execution_count": null,
   "id": "c57427fe",
   "metadata": {},
   "outputs": [],
   "source": [
    "def find_closest_model(models_dict,value):\n",
    "  values = np.array(list(models_dict.values()))\n",
    "  distance = np.abs(value - values)\n",
    "  min_distance = np.min(distance)\n",
    "  min_distance_index = np.where(distance == min_distance)[0]  \n",
    "  closest_model_key = list(models_dict.keys())[int(min_distance_index)]\n",
    "  closest_model_value = np.float(values[min_distance_index])\n",
    "  return closest_model_key, closest_model_value"
   ]
  },
  {
   "cell_type": "code",
   "execution_count": null,
   "id": "2a66a175",
   "metadata": {},
   "outputs": [],
   "source": [
    "yaml_path = './2021-06-25_it1_online_multi_track_probs.yaml'\n",
    "\n",
    "with open(yaml_path) as file:\n",
    "    parsed_yaml_file = yaml.load(file, Loader=yaml.FullLoader)\n",
    "\n",
    "new_params_set = parsed_yaml_file['cma_hist'][-1]"
   ]
  },
  {
   "cell_type": "code",
   "execution_count": null,
   "id": "b74385f1",
   "metadata": {},
   "outputs": [],
   "source": [
    "models_dict = {\n",
    "    'ppo2_gaussian_012':0.12,\n",
    "    'ppo2_gaussian_016':0.16,\n",
    "    'ppo2_gaussian_017':0.17\n",
    "}"
   ]
  },
  {
   "cell_type": "code",
   "execution_count": null,
   "id": "86a0b435",
   "metadata": {},
   "outputs": [],
   "source": [
    "# Start from the first new value in the updated set\n",
    "new_r_1 = new_params_set[0]\n",
    "# Find the model corresponding to the closest radius' value\n",
    "model_name_expert_1, r_expert_1 = find_closest_model(models_dict,new_r_1)"
   ]
  },
  {
   "cell_type": "code",
   "execution_count": null,
   "id": "389ac67a",
   "metadata": {},
   "outputs": [],
   "source": [
    "# Define the environment with r_expert_1\n",
    "init_pose = [0.3, 0.3, np.pi]\n",
    "env = DifferentialDriveEnvV2Unscaled(init_position=init_pose,goal_threshold = 0.1, L=0.5, r=r_expert_1, max_duration = 500)\n",
    "env = make_vec_env(lambda: env, n_envs=1)\n",
    "env = VecNormalize(env)\n",
    "\n",
    "# Load the model\n",
    "model = PPO2.load(model_name_expert_1)\n",
    "model.set_env(env)\n",
    "# Create the Expert Dataset \n",
    "dataset_filename_1 = model_name_expert_1 + '_expert_dataset'\n",
    "# generate_expert_traj(model,file_name,n_episodes)\n",
    "generate_expert_traj(model, dataset_filename_1, n_episodes=50)\n",
    "\n",
    "del model \n",
    "del env # (you can delete them now, not useful anymore)"
   ]
  },
  {
   "cell_type": "code",
   "execution_count": null,
   "id": "6beb467d",
   "metadata": {},
   "outputs": [],
   "source": [
    "# Create the environment with the first updated radius value\n",
    "env = DifferentialDriveEnvV2Unscaled(init_position=init_pose,goal_threshold = 0.1, L=0.5, r=new_r_1, max_duration = 500)\n",
    "env = make_vec_env(lambda: env, n_envs=4)\n",
    "env = VecNormalize(env)"
   ]
  },
  {
   "cell_type": "code",
   "execution_count": null,
   "id": "bcc577a1",
   "metadata": {},
   "outputs": [],
   "source": [
    "# Load the Expert Dataset\n",
    "dataset = ExpertDataset(expert_path=dataset_filename_1 +'.npz',\n",
    "                        batch_size=32)\n",
    "\n",
    "# define the model to pretrain on the generated dataset\n",
    "model = PPO2(MlpPolicy, env, verbose=1,learning_rate=5e-6)\n",
    "\n",
    "# Pretrain the PPO2 model\n",
    "model.pretrain(dataset, n_epochs=500)"
   ]
  },
  {
   "cell_type": "code",
   "execution_count": null,
   "id": "2fd4f491",
   "metadata": {},
   "outputs": [],
   "source": [
    "# Further train the model\n",
    "model.learn(total_timesteps=500000)"
   ]
  },
  {
   "cell_type": "code",
   "execution_count": null,
   "id": "1b6df01d",
   "metadata": {},
   "outputs": [],
   "source": [
    "# Give the new model a name and save it\n",
    "# pretrained_model_name = \"pretraining_attempt\"\n",
    "pretrained_model_name_1 = \"ppo2_gaussian_0\" + str(new_r_1 % 1).replace('0.','')\n",
    "model.save(pretrained_model_name_1)"
   ]
  },
  {
   "cell_type": "code",
   "execution_count": null,
   "id": "defd8779",
   "metadata": {},
   "outputs": [],
   "source": [
    "# Visualize the trajectory obtained. \n",
    "\n",
    "ppo2_model_name = pretrained_model_name_1 # Change this\n",
    "env_class_name = DifferentialDriveEnvV2Unscaled\n",
    "rl_agent_wrapper_class = RLAgentUnscalingWrapper\n",
    "rl_agent_wrapper_params = {\"state_scaling_factors\": [1.0, 1.0, np.pi], \"action_scaling_factors\": [3.0, 3.0]}\n",
    "init_robot_pose = {'x': 0.3, 'y': 0.3, 'theta': np.pi}\n",
    "#init_robot_pose = {'x': 0.3, 'y': 0.3, 'theta': 0}\n",
    "obss, actions = bi.load_and_run_model(ppo2_model_name, 500, 0.50, new_r_1, env_class_name, list(init_robot_pose.values()), rl_agent_wrapper_class, rl_agent_wrapper_params)\n",
    "bi.show_rl_trajectory(obss,actions,0.50,new_r_1)"
   ]
  },
  {
   "cell_type": "code",
   "execution_count": null,
   "id": "474ff7c9",
   "metadata": {},
   "outputs": [],
   "source": [
    "# Second new value in the updated set\n",
    "new_r_2 = new_params_set[2]\n",
    "# Find the model corresponding to the closest radius' value\n",
    "model_name_expert_2, r_expert_2 = find_closest_model(models_dict,new_r_2)"
   ]
  },
  {
   "cell_type": "code",
   "execution_count": null,
   "id": "d1efa786",
   "metadata": {},
   "outputs": [],
   "source": [
    "# Define the environment with r_expert_2\n",
    "#init_pose = [0.3, 0.3, np.pi]\n",
    "env = DifferentialDriveEnvV2Unscaled(init_position=init_pose,goal_threshold = 0.1, L=0.5, r=r_expert_2, max_duration = 500)\n",
    "env = make_vec_env(lambda: env, n_envs=1)\n",
    "env = VecNormalize(env)\n",
    "\n",
    "# Load the model\n",
    "model = PPO2.load(model_name_expert_1)\n",
    "model.set_env(env)\n",
    "# generate_expert_traj(model,file_name,n_episodes)\n",
    "dataset_filename_2 = model_name_expert_2 + '_expert_dataset'\n",
    "generate_expert_traj(model, dataset_filename_2, n_episodes=50)\n",
    "\n",
    "del model \n",
    "del env # (you can delete them now, not useful anymore)"
   ]
  },
  {
   "cell_type": "code",
   "execution_count": null,
   "id": "a88795d3",
   "metadata": {},
   "outputs": [],
   "source": [
    "# Create the environment with the second updated radius value\n",
    "env = DifferentialDriveEnvV2Unscaled(init_position=init_pose,goal_threshold = 0.1, L=0.5, r=new_r_2, max_duration = 500)\n",
    "env = make_vec_env(lambda: env, n_envs=4)\n",
    "env = VecNormalize(env)"
   ]
  },
  {
   "cell_type": "code",
   "execution_count": null,
   "id": "94a5c8db",
   "metadata": {},
   "outputs": [],
   "source": [
    "# Load the Expert Dataset\n",
    "dataset = ExpertDataset(expert_path=dataset_filename_2 +'.npz',\n",
    "                        batch_size=32)\n",
    "\n",
    "# define the model to pretrain on the generated dataset\n",
    "model = PPO2(MlpPolicy, env, verbose=1,learning_rate=5e-6)\n",
    "\n",
    "# Pretrain the PPO2 model\n",
    "model.pretrain(dataset, n_epochs=500)"
   ]
  },
  {
   "cell_type": "code",
   "execution_count": null,
   "id": "567d2050",
   "metadata": {},
   "outputs": [],
   "source": [
    "# Further train the model\n",
    "model.learn(total_timesteps=500000)"
   ]
  },
  {
   "cell_type": "code",
   "execution_count": null,
   "id": "f0f7797e",
   "metadata": {},
   "outputs": [],
   "source": [
    "# Give the new model a name and save it\n",
    "#pretrained_model_name = \"pretraining_attempt\"\n",
    "pretrained_model_name_2 = \"ppo2_gaussian_0\" + str(new_r_2 % 1).replace('0.','')\n",
    "model.save(pretrained_model_name_2)"
   ]
  },
  {
   "cell_type": "code",
   "execution_count": null,
   "id": "b3a1a071",
   "metadata": {},
   "outputs": [],
   "source": [
    "# Visualize the trajectory obtained. \n",
    "\n",
    "ppo2_model_name = pretrained_model_name_1 # Change this\n",
    "env_class_name = DifferentialDriveEnvV2Unscaled\n",
    "rl_agent_wrapper_class = RLAgentUnscalingWrapper\n",
    "rl_agent_wrapper_params = {\"state_scaling_factors\": [1.0, 1.0, np.pi], \"action_scaling_factors\": [3.0, 3.0]}\n",
    "init_robot_pose = {'x': 0.3, 'y': 0.3, 'theta': np.pi}\n",
    "#init_robot_pose = {'x': 0.3, 'y': 0.3, 'theta': 0}\n",
    "obss, actions = bi.load_and_run_model(ppo2_model_name, 500, 0.50, new_r_2, env_class_name, list(init_robot_pose.values()), rl_agent_wrapper_class, rl_agent_wrapper_params)\n",
    "bi.show_rl_trajectory(obss,actions,0.50,new_r_2)"
   ]
  },
  {
   "cell_type": "code",
   "execution_count": null,
   "id": "157bc74b",
   "metadata": {},
   "outputs": [],
   "source": [
    "# Third new value in the updated set\n",
    "new_r_3 = new_params_set[3]\n",
    "model_name_expert_3, r_expert_3 = find_closest_model(models_dict,new_r_3)"
   ]
  },
  {
   "cell_type": "code",
   "execution_count": null,
   "id": "e414a46d",
   "metadata": {},
   "outputs": [],
   "source": [
    "# Define the environment with r_expert_3\n",
    "#init_pose = [0.3, 0.3, np.pi]\n",
    "env = DifferentialDriveEnvV2Unscaled(init_position=init_pose,goal_threshold = 0.1, L=0.5, r=r_expert_3, max_duration = 500)\n",
    "env = make_vec_env(lambda: env, n_envs=1)\n",
    "env = VecNormalize(env)\n",
    "\n",
    "# Load the model\n",
    "model = PPO2.load(model_name_expert_3)\n",
    "model.set_env(env)\n",
    "# generate_expert_traj(model,file_name,n_episodes)\n",
    "dataset_filename_3 = model_name_expert_3 + '_expert_dataset'\n",
    "generate_expert_traj(model, dataset_filename_3, n_episodes=50)\n",
    "\n",
    "del model \n",
    "del env # (you can delete them now, not useful anymore)"
   ]
  },
  {
   "cell_type": "code",
   "execution_count": null,
   "id": "2fb7a40d",
   "metadata": {},
   "outputs": [],
   "source": [
    "# Create the environment with the second updated radius value\n",
    "env = DifferentialDriveEnvV2Unscaled(init_position=init_pose,goal_threshold = 0.1, L=0.5, r=new_r_3, max_duration = 500)\n",
    "env = make_vec_env(lambda: env, n_envs=4)\n",
    "env = VecNormalize(env)"
   ]
  },
  {
   "cell_type": "code",
   "execution_count": null,
   "id": "ea39c48f",
   "metadata": {},
   "outputs": [],
   "source": [
    "# Load the Expert Dataset\n",
    "dataset = ExpertDataset(expert_path=dataset_filename_3 +'.npz',\n",
    "                        batch_size=32)\n",
    "\n",
    "# define the model to pretrain on the generated dataset\n",
    "model = PPO2(MlpPolicy, env, verbose=1,learning_rate=5e-6)\n",
    "\n",
    "# Pretrain the PPO2 model\n",
    "model.pretrain(dataset, n_epochs=500)"
   ]
  },
  {
   "cell_type": "code",
   "execution_count": null,
   "id": "7db33096",
   "metadata": {},
   "outputs": [],
   "source": [
    "# Further train the model\n",
    "model.learn(total_timesteps=500000)"
   ]
  },
  {
   "cell_type": "code",
   "execution_count": null,
   "id": "3d9f724f",
   "metadata": {},
   "outputs": [],
   "source": [
    "# Give the new model a name and save it\n",
    "#pretrained_model_name = \"pretraining_attempt\"\n",
    "pretrained_model_name_3 = \"ppo2_gaussian_0\" + str(new_r_3 % 1).replace('0.','')\n",
    "model.save(pretrained_model_name_3)"
   ]
  },
  {
   "cell_type": "code",
   "execution_count": null,
   "id": "63624372",
   "metadata": {},
   "outputs": [],
   "source": [
    "# Visualize the trajectory obtained. \n",
    "\n",
    "ppo2_model_name = pretrained_model_name_3 # Change this\n",
    "env_class_name = DifferentialDriveEnvV2Unscaled\n",
    "rl_agent_wrapper_class = RLAgentUnscalingWrapper\n",
    "rl_agent_wrapper_params = {\"state_scaling_factors\": [1.0, 1.0, np.pi], \"action_scaling_factors\": [3.0, 3.0]}\n",
    "init_robot_pose = {'x': 0.3, 'y': 0.3, 'theta': np.pi}\n",
    "#init_robot_pose = {'x': 0.3, 'y': 0.3, 'theta': 0}\n",
    "obss, actions = bi.load_and_run_model(ppo2_model_name, 500, 0.50, new_r_3, env_class_name, list(init_robot_pose.values()), rl_agent_wrapper_class, rl_agent_wrapper_params)\n",
    "bi.show_rl_trajectory(obss,actions,0.50,new_r_3)"
   ]
  },
  {
   "cell_type": "code",
   "execution_count": null,
   "id": "91c8a767",
   "metadata": {},
   "outputs": [],
   "source": [
    "models_info = { pretrained_model_name_1 : new_r_1,\n",
    "    pretrained_model_name_2 : new_r_2,\n",
    "    pretrained_model_name_3 : new_r_3,    \n",
    "}"
   ]
  },
  {
   "cell_type": "code",
   "execution_count": null,
   "id": "9ed709c6",
   "metadata": {},
   "outputs": [],
   "source": [
    "# Save in a yaml file the names of the new models\n",
    "# To each model as a key correspond the respective radius value\n",
    "\n",
    "date_prefix = datetime.today().strftime('%Y-%m-%d')\n",
    "name_prefix = 'updated_parameters_ppo_models'\n",
    "output_file_prefix = date_prefix +'_'+name_prefix\n",
    "log_file = output_file_prefix+'.yaml'\n",
    "\n",
    "with open(log_file, 'w') as file:\n",
    "    documents = yaml.dump(models_info, file)\n",
    "    "
   ]
  }
 ],
 "metadata": {
  "kernelspec": {
   "display_name": "Python 3",
   "language": "python",
   "name": "python3"
  },
  "language_info": {
   "codemirror_mode": {
    "name": "ipython",
    "version": 3
   },
   "file_extension": ".py",
   "mimetype": "text/x-python",
   "name": "python",
   "nbconvert_exporter": "python",
   "pygments_lexer": "ipython3",
   "version": "3.6.13"
  }
 },
 "nbformat": 4,
 "nbformat_minor": 5
}

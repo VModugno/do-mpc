{
 "cells": [
  {
   "cell_type": "code",
   "execution_count": null,
   "metadata": {},
   "outputs": [],
   "source": [
    "import numpy as np\n",
    "import do_mpc\n",
    "from datetime import datetime\n",
    "import yaml\n",
    "import sys; sys.path.insert(0,'..')\n",
    "from DifferentialDriveExperiment import DifferentialDriveExperiment "
   ]
  },
  {
   "cell_type": "code",
   "execution_count": null,
   "metadata": {},
   "outputs": [],
   "source": [
    "experiment = DifferentialDriveExperiment(axle_lengths_dict={'values':[0.5]}, wheel_radii_dict={'values':[0.12],'true_value':0.15})\n",
    "#init_robot_pose = {'x': -0.5, 'y': 0.0, 'theta': np.pi/2} #target on the side robot along y axis\n",
    "init_robot_pose = {'x': 0.3, 'y': 0.3, 'theta': np.pi}#this is the initial position for the learning\n",
    "\n",
    "#init_robot_pose = {'x': -1, 'y': 0.0, 'theta': 0} #ok target in front robot along y axis\n",
    "#init_robot_pose = {'x': -1, 'y': 0.0, 'theta': -np.pi} #ok target behind robot along y axis\n",
    "#init_robot_pose = {'x': -1, 'y': 1, 'theta': -np.pi/4} # target in front\n",
    "experiment.setup_experiment(init_robot_pose)\n",
    "#HERE the file where the results are saved:\n",
    "date_prefix = datetime.today().strftime('%Y-%m-%d')\n",
    "name_prefix = 'pure_mpc5_r012-true015_initpose_0303pi'\n",
    "output_file_prefix = date_prefix +'_'+name_prefix\n",
    "graphic_output_file = output_file_prefix+'.gif'\n",
    "trajectory_image = output_file_prefix+'.png'\n",
    "trajectory_info_log_file = output_file_prefix+'.yaml'\n",
    "print(\"Those experiment will be saved in {} gif and its trajectory in {}\".format(graphic_output_file,trajectory_info_log_file))\n",
    "#graphic_output_file = '20210401_custom_weight_ddrive.gif'"
   ]
  },
  {
   "cell_type": "code",
   "execution_count": null,
   "metadata": {},
   "outputs": [],
   "source": [
    "mpc_graphics = do_mpc.graphics.Graphics(experiment.mpc.data)"
   ]
  },
  {
   "cell_type": "code",
   "execution_count": null,
   "metadata": {},
   "outputs": [],
   "source": [
    "import matplotlib.pyplot as plt\n",
    "plt.ion() # interactive mode on\n",
    "from matplotlib import rcParams\n",
    "rcParams['text.usetex'] = False\n",
    "rcParams['axes.grid'] = True\n",
    "rcParams['lines.linewidth'] = 2.0\n",
    "rcParams['axes.labelsize'] = 'xx-large'\n",
    "rcParams['xtick.labelsize'] = 'xx-large'\n",
    "rcParams['ytick.labelsize'] = 'xx-large'\n",
    "\n",
    "# Include these parameters in order to have embedded animations without saving the gif file\n",
    "rcParams[\"animation.html\"] = \"jshtml\"\n",
    "rcParams['animation.embed_limit'] = 2**128"
   ]
  },
  {
   "cell_type": "code",
   "execution_count": null,
   "metadata": {},
   "outputs": [],
   "source": [
    "def differential_drive_robot(x, L, r):\n",
    "    x = x.flatten()\n",
    "    theta = x[2]\n",
    "    \n",
    "    length = 5\n",
    "    endx = x[0] + length * np.cos(theta)\n",
    "    endy = x[1] + length * np.sin(theta)\n",
    "    \n",
    "    # Get the x,y coordinates of the 2 bars for the given state x\n",
    "    orientation_x = np.array([\n",
    "        x[0],\n",
    "        endx\n",
    "    ])\n",
    "    \n",
    "    orientation_y = np.array([\n",
    "        x[1],\n",
    "        endy\n",
    "    ])\n",
    "    \n",
    "    \n",
    "    left_wheel = np.array([x[0]+L/2*np.cos(theta+np.pi/2),x[1]+L/2*np.sin(theta+np.pi/2)])\n",
    "    right_wheel = np.array([x[0]+L/2*np.cos(theta-np.pi/2),x[1]+L/2*np.sin(theta-np.pi/2)])\n",
    "\n",
    "    bar_x = np.array([\n",
    "        right_wheel[0],\n",
    "        left_wheel[0]        \n",
    "    ])\n",
    "    \n",
    "    bar_y = np.array([\n",
    "        right_wheel[1],\n",
    "        left_wheel[1]     \n",
    "    ])\n",
    "    \n",
    "    left_wheel_front = np.array([left_wheel[0]+r*np.cos(theta),left_wheel[1]+r*np.sin(theta)])\n",
    "    left_wheel_back = np.array([left_wheel[0]-r*np.cos(theta),left_wheel[1]-r*np.sin(theta)])\n",
    "    \n",
    "    left_wheel_x = np.array([\n",
    "        left_wheel_front[0],\n",
    "        left_wheel_back[0]        \n",
    "    ])\n",
    "    \n",
    "    left_wheel_y = np.array([\n",
    "        left_wheel_front[1],\n",
    "        left_wheel_back[1]     \n",
    "    ])\n",
    "    \n",
    "    right_wheel_front = np.array([right_wheel[0]+r*np.cos(theta),right_wheel[1]+r*np.sin(theta)])\n",
    "    right_wheel_back = np.array([right_wheel[0]-r*np.cos(theta),right_wheel[1]-r*np.sin(theta)])\n",
    "    \n",
    "    right_wheel_x = np.array([\n",
    "        right_wheel_front[0],\n",
    "        right_wheel_back[0]        \n",
    "    ])\n",
    "    \n",
    "    right_wheel_y = np.array([\n",
    "        right_wheel_front[1],\n",
    "        right_wheel_back[1]     \n",
    "    ])\n",
    "    \n",
    "    orientation = np.stack((orientation_x, orientation_y))\n",
    "    bar = np.stack((bar_x, bar_y))\n",
    "    left_wheel = np.stack((left_wheel_x,left_wheel_y))\n",
    "    right_wheel = np.stack((right_wheel_x,right_wheel_y))\n",
    "        \n",
    "    return orientation, bar, left_wheel, right_wheel"
   ]
  },
  {
   "cell_type": "code",
   "execution_count": null,
   "metadata": {},
   "outputs": [],
   "source": [
    "#help(do_mpc.controller.MPC.set_uncertainty_weights)"
   ]
  },
  {
   "cell_type": "code",
   "execution_count": null,
   "metadata": {
    "tags": []
   },
   "outputs": [],
   "source": [
    "from matplotlib.path import Path\n",
    "from matplotlib.transforms import Affine2D\n",
    "from matplotlib.patches import PathPatch\n",
    "from matplotlib.collections import PatchCollection, PathCollection\n",
    "def make_robot_shapepath(x, y, theta,L):\n",
    "    robot_width = L\n",
    "    robot_length = L\n",
    "    robot_coords = np.array([[0, 0], [0, robot_width / 2.0], [robot_length, 0], [0, -robot_width / 2.0], [0, 0]])\n",
    "    path = Path(robot_coords)\n",
    "    trans = Affine2D().translate(x, y).rotate_around(x, y, theta)\n",
    "    tpath = path.transformed(trans)\n",
    "    return tpath"
   ]
  },
  {
   "cell_type": "code",
   "execution_count": null,
   "metadata": {},
   "outputs": [],
   "source": [
    "%%capture\n",
    "\n",
    "fig = plt.figure(figsize=(16,9))\n",
    "\n",
    "ax1 = plt.subplot2grid((5, 2), (0, 0), rowspan=5)\n",
    "ax2 = plt.subplot2grid((5, 2), (0, 1))\n",
    "ax3 = plt.subplot2grid((5, 2), (1, 1))\n",
    "ax4 = plt.subplot2grid((5, 2), (2, 1))\n",
    "ax5 = plt.subplot2grid((5, 2), (3, 1))\n",
    "ax6 = plt.subplot2grid((5, 2), (4, 1))\n",
    "\n",
    "ax2.set_ylabel('$\\omega_{left}$ [rad/s]')\n",
    "ax3.set_ylabel('$\\omega_{right}$ [rad/s]')\n",
    "ax4.set_ylabel('$v$ [m/s]')\n",
    "ax5.set_ylabel('$\\omega$ [rad/s]')\n",
    "ax6.set_ylabel('$distance$ [m]')\n",
    "\n",
    "# Axis on the right.\n",
    "for ax in [ax2, ax3, ax4, ax5, ax6]:\n",
    "    ax.yaxis.set_label_position(\"right\")\n",
    "    ax.yaxis.tick_right()\n",
    "    if ax != ax6:\n",
    "        ax.xaxis.set_ticklabels([])\n",
    "\n",
    "ax6.set_xlabel('time [s]')\n",
    "\n",
    "mpc_graphics.add_line(var_type='_u', var_name='u_l', axis=ax2)\n",
    "mpc_graphics.add_line(var_type='_u', var_name='u_r', axis=ax3)\n",
    "mpc_graphics.add_line(var_type='_aux', var_name='v', axis=ax4)\n",
    "mpc_graphics.add_line(var_type='_aux', var_name='w', axis=ax5)\n",
    "mpc_graphics.add_line(var_type='_aux', var_name='position_norm', axis=ax6)\n",
    "#mpc_graphics.add_line(var_type='_aux', var_name='squared_distance', axis=ax6)\n",
    "\n",
    "ax1.axhline(0,color='black')\n",
    "\n",
    "orientation_line = ax1.plot([],[], '-o', color = 'black',dashes = [6,2])\n",
    "bar_line = ax1.plot([],[], color = 'blue')\n",
    "left_wheel_line = ax1.plot([],[],'blue')\n",
    "right_wheel_line = ax1.plot([],[],'blue')\n",
    "\n",
    "ax1.set_xlim(-5,5)\n",
    "ax1.set_ylim(-5,5)\n",
    "#ax1.set_axis_off()\n",
    "\n",
    "ax1.set_aspect('equal')\n",
    "\n",
    "fig.align_ylabels()\n",
    "fig.tight_layout()"
   ]
  },
  {
   "cell_type": "code",
   "execution_count": null,
   "metadata": {},
   "outputs": [],
   "source": [
    "u0 = experiment.mpc.make_step(experiment.simulator.x0)\n",
    "#y_next = experiment.simulator.make_step(u0)\n",
    "#x0 = experiment.estimator.make_step(y_next)\n",
    "#print(\"x0 is {} class {}\".format(x0, type(x0)))"
   ]
  },
  {
   "cell_type": "code",
   "execution_count": null,
   "metadata": {},
   "outputs": [],
   "source": [
    "x0_np = experiment.simulator.x0.cat.full()\n",
    "orientation, bar, left_wheel, right_wheel = differential_drive_robot(x0_np, experiment.true_axle_length, experiment.true_wheel_radius)\n",
    "orientation_line[0].set_data(orientation[0], orientation[1])\n",
    "bar_line[0].set_data(bar[0], bar[1])\n",
    "right_wheel_line[0].set_data(right_wheel[0], right_wheel[1])\n",
    "left_wheel_line[0].set_data(left_wheel[0], left_wheel[1])\n",
    "\n",
    "mpc_graphics.plot_predictions()\n",
    "mpc_graphics.reset_axes()\n",
    "\n",
    "fig"
   ]
  },
  {
   "cell_type": "code",
   "execution_count": null,
   "metadata": {},
   "outputs": [],
   "source": [
    "%%capture\n",
    "# Quickly reset the history of the MPC data object.\n",
    "experiment.mpc.reset_history()\n",
    "\n",
    "n_steps = 400\n",
    "goal_tolerance = 0.015\n",
    "steps_done=0\n",
    "x0 = experiment.simulator.x0\n",
    "from timeit import default_timer as timer\n",
    "start_t = timer()\n",
    "for k in range(n_steps):\n",
    "    u0 = experiment.mpc.make_step(x0)\n",
    "    y_next = experiment.simulator.make_step(u0)\n",
    "    x0 = experiment.estimator.make_step(y_next)\n",
    "    steps_done+=1\n",
    "    current_dist=np.linalg.norm(x0[0:2])\n",
    "    if(current_dist<=goal_tolerance):\n",
    "        break\n",
    "end_t = timer()\n",
    "time_elapsed = end_t-start_t"
   ]
  },
  {
   "cell_type": "code",
   "execution_count": null,
   "metadata": {},
   "outputs": [],
   "source": [
    "print(\"Time elapsed {}\".format(end_t-start_t))\n",
    "print(\"Experiment reached the goal in {} steps of {} with a distance tolerance of {}\".format(steps_done,n_steps, goal_tolerance))"
   ]
  },
  {
   "cell_type": "code",
   "execution_count": null,
   "metadata": {},
   "outputs": [],
   "source": [
    "x_arr = experiment.mpc.data['_x']\n",
    "u_arr = experiment.mpc.data['_u']"
   ]
  },
  {
   "cell_type": "code",
   "execution_count": null,
   "metadata": {},
   "outputs": [],
   "source": [
    "last_state = x0\n",
    "trajectory_info = {'x':x_arr.tolist(),'u':u_arr.tolist(),'final_x':last_state.flatten().tolist(),\n",
    "                   'max_n_steps':n_steps,'steps_done':steps_done,'goal_tolerance':goal_tolerance,\n",
    "                   'time_elapsed':time_elapsed,'init_pose':init_robot_pose}\n",
    "#print(\"State array is a list of {} states. Here is the content: \\n {}\".format(len(trajectory_info['x']),trajectory_info['x']))\n",
    "#print(\"Commands applied in those state are a list of {} commands. Here is the content: \\n {}\".format(len(trajectory_info['u']),trajectory_info['u']))\n",
    "#print(\"Last state is {}\".format(trajectory_info['final_x']))\n",
    "#HERE states and commands are saved in the yaml log file\n",
    "#save the trajectory in a yaml file\n",
    "with open(trajectory_info_log_file, 'w') as file:\n",
    "    documents = yaml.dump(trajectory_info, file)"
   ]
  },
  {
   "cell_type": "code",
   "execution_count": null,
   "metadata": {},
   "outputs": [],
   "source": [
    "#%%capture\n",
    "\n",
    "fig2 = plt.figure(figsize=(16,9))\n",
    "ax = fig2.add_subplot()\n",
    "ax.set_aspect('equal')\n",
    "ax.set_xlim(-1,1)\n",
    "ax.set_ylim(-1,1)\n",
    "ax.set_title('Followed trajectory',fontsize = 16)\n",
    "\n",
    "ax.plot(x_arr[:,[0]],x_arr[:,[1]])\n",
    "pose_triangles = []\n",
    "triangle_dim = experiment.true_axle_length/4 #not in scale, just to have an idea of the direction\n",
    "for i in range(0,x_arr.shape[0],40):\n",
    "    pose_triangles.append(make_robot_shapepath(x_arr[i,0],x_arr[i,1],x_arr[i,2],triangle_dim))\n",
    "ax.add_collection(PathCollection([pose_triangles[0]], facecolors='none', edgecolors='purple', linewidth=1))\n",
    "ax.add_collection(PathCollection(pose_triangles[1:-2], facecolors='none', edgecolors='green', linewidth=1))\n",
    "ax.add_collection(PathCollection([pose_triangles[-1]], facecolors='none', edgecolors='orange', linewidth=1))\n",
    "plt.savefig(trajectory_image,bbox_inches='tight')"
   ]
  },
  {
   "cell_type": "code",
   "execution_count": null,
   "metadata": {},
   "outputs": [],
   "source": [
    "from matplotlib.animation import FuncAnimation, FFMpegWriter, ImageMagickWriter\n",
    "\n",
    "# The function describing the gif:\n",
    "def update(t_ind):\n",
    "    orientation, bar, left_wheel, right_wheel = differential_drive_robot(x_arr[t_ind],experiment.true_axle_length,experiment.true_wheel_radius)\n",
    "    orientation_line[0].set_data(orientation[0],orientation[1])\n",
    "    bar_line[0].set_data(bar[0],bar[1])\n",
    "    right_wheel_line[0].set_data(right_wheel[0],right_wheel[1])\n",
    "    left_wheel_line[0].set_data(left_wheel[0],left_wheel[1])\n",
    "    mpc_graphics.plot_results(t_ind)\n",
    "    mpc_graphics.plot_predictions(t_ind)\n",
    "    mpc_graphics.reset_axes()\n",
    "\n",
    "\n",
    "anim = FuncAnimation(fig, update, frames=steps_done, repeat=False)"
   ]
  },
  {
   "cell_type": "code",
   "execution_count": null,
   "metadata": {},
   "outputs": [],
   "source": [
    "# Show the animation as embedded without saving it as a gif\n",
    "anim"
   ]
  },
  {
   "cell_type": "code",
   "execution_count": null,
   "metadata": {},
   "outputs": [],
   "source": [
    "# Save the animation as a gif\n",
    "gif_writer = ImageMagickWriter(fps=10)\n",
    "anim.save(graphic_output_file, writer=gif_writer)"
   ]
  },
  {
   "cell_type": "code",
   "execution_count": null,
   "metadata": {},
   "outputs": [],
   "source": [
    "!identify -list resource"
   ]
  },
  {
   "cell_type": "code",
   "execution_count": null,
   "metadata": {},
   "outputs": [],
   "source": [
    "print(x_arr[steps_done-1])"
   ]
  },
  {
   "cell_type": "code",
   "execution_count": null,
   "metadata": {},
   "outputs": [],
   "source": [
    "from IPython.core.interactiveshell import InteractiveShell\n",
    "InteractiveShell.ast_node_interactivity = \"all\"\n",
    "from IPython import display"
   ]
  },
  {
   "cell_type": "code",
   "execution_count": null,
   "metadata": {},
   "outputs": [],
   "source": [
    "from pathlib import Path\n",
    "gifPath = Path(graphic_output_file)\n",
    "# Display GIF in Jupyter, CoLab, IPython\n",
    "with open(gifPath,'rb') as f:\n",
    "    display.Image(data=f.read(), format='png')"
   ]
  },
  {
   "cell_type": "code",
   "execution_count": null,
   "metadata": {},
   "outputs": [],
   "source": [
    "#if there are issues in making the gif due to memory limits in ImageMagick then do the following steps:\n",
    "# -- if not present, install a text editor like nano\n",
    "#1- open terminal : sudo nano /etc/ImageMagick-6/policy.xml\n",
    "#2- Enter your password\n",
    "#3- You should be in nano file, change the line with \"ressource memory\" to\n",
    "#4- <policy domain=\"resource\" name=\"memory\" value=\"5000MiB\"/>\n",
    "#5- Save the nano file : ctrl + o and enter to confirm\n",
    "#6- Up the memory if necessary"
   ]
  },
  {
   "cell_type": "code",
   "execution_count": null,
   "metadata": {},
   "outputs": [],
   "source": []
  }
 ],
 "metadata": {
  "kernelspec": {
   "display_name": "Python 3",
   "language": "python",
   "name": "python3"
  },
  "language_info": {
   "codemirror_mode": {
    "name": "ipython",
    "version": 3
   },
   "file_extension": ".py",
   "mimetype": "text/x-python",
   "name": "python",
   "nbconvert_exporter": "python",
   "pygments_lexer": "ipython3",
   "version": "3.6.13"
  }
 },
 "nbformat": 4,
 "nbformat_minor": 4
}

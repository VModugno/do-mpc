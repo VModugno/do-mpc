{
 "cells": [
  {
   "cell_type": "code",
   "execution_count": 1,
   "metadata": {},
   "outputs": [],
   "source": [
    "import numpy as np\n",
    "from casadi import *\n",
    "import do_mpc"
   ]
  },
  {
   "cell_type": "code",
   "execution_count": 2,
   "metadata": {},
   "outputs": [],
   "source": [
    "model_type = 'discrete'\n",
    "model = do_mpc.model.Model(model_type)"
   ]
  },
  {
   "cell_type": "code",
   "execution_count": 3,
   "metadata": {},
   "outputs": [],
   "source": [
    "# Euler sampling interval\n",
    "delta_t = 0.01\n",
    "# Uncertain parameters: L is distance between wheels, r is the radius of the wheels\n",
    "L = model.set_variable('_p', 'L')\n",
    "r = model.set_variable('_p', 'r')"
   ]
  },
  {
   "cell_type": "code",
   "execution_count": 4,
   "metadata": {},
   "outputs": [],
   "source": [
    "# input angular velocities of the left (u_l) and right (u_r) wheels\n",
    "u_l = model.set_variable('_u', 'u_l')\n",
    "u_r = model.set_variable('_u', 'u_r')"
   ]
  },
  {
   "cell_type": "code",
   "execution_count": 5,
   "metadata": {},
   "outputs": [],
   "source": [
    "# linear (v) and angular (w) velocities of the center of the robot axle\n",
    "v = (u_r + u_l) * r / 2\n",
    "w = (u_r - u_l) * r / L"
   ]
  },
  {
   "cell_type": "code",
   "execution_count": 6,
   "metadata": {},
   "outputs": [],
   "source": [
    "# state variables : position of the center of the robot axle and heading wrt x-axis\n",
    "x = model.set_variable('_x', 'x')\n",
    "y = model.set_variable('_x', 'y')\n",
    "theta = model.set_variable('_x', 'theta')"
   ]
  },
  {
   "cell_type": "code",
   "execution_count": 7,
   "metadata": {},
   "outputs": [],
   "source": [
    "# right-hand side of the dynamics\n",
    "x_next = x + v * delta_t * cos(theta)\n",
    "y_next = y + v * delta_t * sin(theta)\n",
    "theta_next = theta + w * delta_t\n",
    "model.set_rhs('x', x_next)\n",
    "model.set_rhs('y', y_next)\n",
    "model.set_rhs('theta', theta_next)"
   ]
  },
  {
   "cell_type": "code",
   "execution_count": 8,
   "metadata": {},
   "outputs": [
    {
     "data": {
      "text/plain": [
       "SX(0)"
      ]
     },
     "execution_count": 8,
     "metadata": {},
     "output_type": "execute_result"
    }
   ],
   "source": [
    "# auxiliary expression for the quadratic distance to the origin\n",
    "model.set_expression('distance', x**2+y**2)\n",
    "model.set_expression('zero',x-x)"
   ]
  },
  {
   "cell_type": "code",
   "execution_count": 9,
   "metadata": {},
   "outputs": [],
   "source": [
    "model.setup()"
   ]
  },
  {
   "cell_type": "code",
   "execution_count": 10,
   "metadata": {},
   "outputs": [],
   "source": [
    "mpc = do_mpc.controller.MPC(model)"
   ]
  },
  {
   "cell_type": "code",
   "execution_count": 16,
   "metadata": {},
   "outputs": [],
   "source": [
    "setup_mpc = {\n",
    "    'n_horizon': 10, # prediction horizion\n",
    "    'n_robust': 1, # robust horizon\n",
    "    'open_loop': 0, # if set to false, for each time step and scenario an individual control input it computed\n",
    "    't_step': delta_t,  # timestep of the mpc\n",
    "    'store_full_solution': True, # choose whether to store the full solution of the optimization problem\n",
    "    # Use MA27 linear solver in ipopt for faster calculations:\n",
    "    'nlpsol_opts': {'ipopt.linear_solver': 'mumps'}\n",
    "}\n",
    "mpc.set_param(**setup_mpc)"
   ]
  },
  {
   "cell_type": "code",
   "execution_count": 17,
   "metadata": {},
   "outputs": [],
   "source": [
    "mterm = model.aux['distance'] # \"naive\" terminal cost\n",
    "lterm = model.aux['zero']\n",
    "mpc.set_objective(mterm=mterm,lterm=lterm) # \"naive\" cost function\n",
    "mpc.set_rterm(u_l=0.1, u_r=0.1) # to be defined"
   ]
  },
  {
   "cell_type": "code",
   "execution_count": 18,
   "metadata": {},
   "outputs": [],
   "source": [
    "# set the constraints of the control problem\n",
    "mpc.bounds['lower','_u','u_l'] = -1\n",
    "mpc.bounds['upper','_u','u_l'] = 1\n",
    "mpc.bounds['lower','_u','u_r'] = -1\n",
    "mpc.bounds['upper','_u','u_r'] = 1"
   ]
  },
  {
   "cell_type": "code",
   "execution_count": 19,
   "metadata": {},
   "outputs": [],
   "source": [
    "L_values = np.array([0.48, 0.5, 0.53])\n",
    "r_values = np.array([0.1, 0.15, 0.20])\n",
    "mpc.set_uncertainty_values(L=L_values, r=r_values)"
   ]
  },
  {
   "cell_type": "code",
   "execution_count": 20,
   "metadata": {},
   "outputs": [
    {
     "name": "stdout",
     "output_type": "stream",
     "text": [
      "n_scenarios:  [1, 9, 9, 9, 9, 9, 9, 9, 9, 9, 9]\n",
      "Max:  9\n",
      "\n",
      "-- Probability distribution modes -- \n",
      "1. Manual distrinution \n",
      "2. Hierarchical distribution \n"
     ]
    },
    {
     "name": "stdin",
     "output_type": "stream",
     "text": [
      "Select prefered mode:  1\n"
     ]
    },
    {
     "name": "stdout",
     "output_type": "stream",
     "text": [
      "\n",
      "There are 9 scenarios, insert the aproximate probability value for each one by one.\n"
     ]
    },
    {
     "name": "stdin",
     "output_type": "stream",
     "text": [
      "Insert probability value for scenario 0:  3\n",
      "Insert probability value for scenario 1:  2\n",
      "Insert probability value for scenario 2:  4\n",
      "Insert probability value for scenario 3:  2\n",
      "Insert probability value for scenario 4:  6\n",
      "Insert probability value for scenario 5:  2\n",
      "Insert probability value for scenario 6:  1\n",
      "Insert probability value for scenario 7:  2\n",
      "Insert probability value for scenario 8:  6\n"
     ]
    },
    {
     "name": "stdout",
     "output_type": "stream",
     "text": [
      "[0.10714286 0.07142857 0.14285714 0.07142857 0.21428571 0.07142857\n",
      " 0.03571429 0.07142857 0.21428571]\n",
      "Final sum:  0.9999999999999999\n"
     ]
    }
   ],
   "source": [
    "mpc.setup()"
   ]
  },
  {
   "cell_type": "code",
   "execution_count": null,
   "metadata": {},
   "outputs": [],
   "source": []
  }
 ],
 "metadata": {
  "kernelspec": {
   "display_name": "Python 3",
   "language": "python",
   "name": "python3"
  },
  "language_info": {
   "codemirror_mode": {
    "name": "ipython",
    "version": 3
   },
   "file_extension": ".py",
   "mimetype": "text/x-python",
   "name": "python",
   "nbconvert_exporter": "python",
   "pygments_lexer": "ipython3",
   "version": "3.9.2"
  }
 },
 "nbformat": 4,
 "nbformat_minor": 4
}